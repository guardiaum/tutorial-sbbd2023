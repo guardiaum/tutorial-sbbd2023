{
  "nbformat": 4,
  "nbformat_minor": 0,
  "metadata": {
    "colab": {
      "provenance": [],
      "authorship_tag": "ABX9TyOgP+xPJOYdlyVuPiFqf9IY",
      "include_colab_link": true
    },
    "kernelspec": {
      "name": "python3",
      "display_name": "Python 3"
    },
    "language_info": {
      "name": "python"
    }
  },
  "cells": [
    {
      "cell_type": "markdown",
      "metadata": {
        "id": "view-in-github",
        "colab_type": "text"
      },
      "source": [
        "<a href=\"https://colab.research.google.com/github/guardiaum/tutorial-sbbd2023/blob/main/Prompt_Engineering.ipynb\" target=\"_parent\"><img src=\"https://colab.research.google.com/assets/colab-badge.svg\" alt=\"Open In Colab\"/></a>"
      ]
    },
    {
      "cell_type": "markdown",
      "source": [
        "# **Tutorial Prompting and Fine-Tuning Pre-trained Generative Language Models**\n",
        "*Johny Moreira, Altigran da Silva, Luciano Barbosa*\n",
        "\n",
        "SIMPÓSIO BRASILEIRO DE BANCO DE DADOS - 2023\n"
      ],
      "metadata": {
        "id": "tTJNN_-53nL-"
      }
    },
    {
      "cell_type": "markdown",
      "source": [
        "# Configurações básicas do ambiente"
      ],
      "metadata": {
        "id": "Kedp6C8no8ve"
      }
    },
    {
      "cell_type": "code",
      "execution_count": null,
      "metadata": {
        "id": "cEYLCSsEB-KE",
        "colab": {
          "base_uri": "https://localhost:8080/"
        },
        "outputId": "aef6caa7-4443-4cb4-c9dd-938169d6086a"
      },
      "outputs": [
        {
          "output_type": "stream",
          "name": "stdout",
          "text": [
            "Mounted at /content/drive\n"
          ]
        }
      ],
      "source": [
        "from google.colab import drive\n",
        "drive.mount('/content/drive')"
      ]
    },
    {
      "cell_type": "code",
      "source": [
        "! pip install openai\n",
        "! pip install langchain\n",
        "! pip install python-dotenv\n",
        "\n",
        "# https://gpt4all.io/index.html\n",
        "# \"Um ecossistema open-source para treino e deployment de LLMs\"\n",
        "! pip install gpt4all"
      ],
      "metadata": {
        "colab": {
          "base_uri": "https://localhost:8080/"
        },
        "id": "XZwjpEqx7kO6",
        "outputId": "5421b2cf-ec85-402e-da40-fe5846060699"
      },
      "execution_count": null,
      "outputs": [
        {
          "output_type": "stream",
          "name": "stdout",
          "text": [
            "Requirement already satisfied: openai in /usr/local/lib/python3.10/dist-packages (0.28.0)\n",
            "Requirement already satisfied: requests>=2.20 in /usr/local/lib/python3.10/dist-packages (from openai) (2.31.0)\n",
            "Requirement already satisfied: tqdm in /usr/local/lib/python3.10/dist-packages (from openai) (4.66.1)\n",
            "Requirement already satisfied: aiohttp in /usr/local/lib/python3.10/dist-packages (from openai) (3.8.5)\n",
            "Requirement already satisfied: charset-normalizer<4,>=2 in /usr/local/lib/python3.10/dist-packages (from requests>=2.20->openai) (3.2.0)\n",
            "Requirement already satisfied: idna<4,>=2.5 in /usr/local/lib/python3.10/dist-packages (from requests>=2.20->openai) (3.4)\n",
            "Requirement already satisfied: urllib3<3,>=1.21.1 in /usr/local/lib/python3.10/dist-packages (from requests>=2.20->openai) (2.0.4)\n",
            "Requirement already satisfied: certifi>=2017.4.17 in /usr/local/lib/python3.10/dist-packages (from requests>=2.20->openai) (2023.7.22)\n",
            "Requirement already satisfied: attrs>=17.3.0 in /usr/local/lib/python3.10/dist-packages (from aiohttp->openai) (23.1.0)\n",
            "Requirement already satisfied: multidict<7.0,>=4.5 in /usr/local/lib/python3.10/dist-packages (from aiohttp->openai) (6.0.4)\n",
            "Requirement already satisfied: async-timeout<5.0,>=4.0.0a3 in /usr/local/lib/python3.10/dist-packages (from aiohttp->openai) (4.0.3)\n",
            "Requirement already satisfied: yarl<2.0,>=1.0 in /usr/local/lib/python3.10/dist-packages (from aiohttp->openai) (1.9.2)\n",
            "Requirement already satisfied: frozenlist>=1.1.1 in /usr/local/lib/python3.10/dist-packages (from aiohttp->openai) (1.4.0)\n",
            "Requirement already satisfied: aiosignal>=1.1.2 in /usr/local/lib/python3.10/dist-packages (from aiohttp->openai) (1.3.1)\n",
            "Requirement already satisfied: langchain in /usr/local/lib/python3.10/dist-packages (0.0.300)\n",
            "Requirement already satisfied: PyYAML>=5.3 in /usr/local/lib/python3.10/dist-packages (from langchain) (6.0.1)\n",
            "Requirement already satisfied: SQLAlchemy<3,>=1.4 in /usr/local/lib/python3.10/dist-packages (from langchain) (2.0.20)\n",
            "Requirement already satisfied: aiohttp<4.0.0,>=3.8.3 in /usr/local/lib/python3.10/dist-packages (from langchain) (3.8.5)\n",
            "Requirement already satisfied: anyio<4.0 in /usr/local/lib/python3.10/dist-packages (from langchain) (3.7.1)\n",
            "Requirement already satisfied: async-timeout<5.0.0,>=4.0.0 in /usr/local/lib/python3.10/dist-packages (from langchain) (4.0.3)\n",
            "Requirement already satisfied: dataclasses-json<0.7,>=0.5.7 in /usr/local/lib/python3.10/dist-packages (from langchain) (0.6.0)\n",
            "Requirement already satisfied: jsonpatch<2.0,>=1.33 in /usr/local/lib/python3.10/dist-packages (from langchain) (1.33)\n",
            "Requirement already satisfied: langsmith<0.1.0,>=0.0.38 in /usr/local/lib/python3.10/dist-packages (from langchain) (0.0.40)\n",
            "Requirement already satisfied: numexpr<3.0.0,>=2.8.4 in /usr/local/lib/python3.10/dist-packages (from langchain) (2.8.5)\n",
            "Requirement already satisfied: numpy<2,>=1 in /usr/local/lib/python3.10/dist-packages (from langchain) (1.23.5)\n",
            "Requirement already satisfied: pydantic<3,>=1 in /usr/local/lib/python3.10/dist-packages (from langchain) (1.10.12)\n",
            "Requirement already satisfied: requests<3,>=2 in /usr/local/lib/python3.10/dist-packages (from langchain) (2.31.0)\n",
            "Requirement already satisfied: tenacity<9.0.0,>=8.1.0 in /usr/local/lib/python3.10/dist-packages (from langchain) (8.2.3)\n",
            "Requirement already satisfied: attrs>=17.3.0 in /usr/local/lib/python3.10/dist-packages (from aiohttp<4.0.0,>=3.8.3->langchain) (23.1.0)\n",
            "Requirement already satisfied: charset-normalizer<4.0,>=2.0 in /usr/local/lib/python3.10/dist-packages (from aiohttp<4.0.0,>=3.8.3->langchain) (3.2.0)\n",
            "Requirement already satisfied: multidict<7.0,>=4.5 in /usr/local/lib/python3.10/dist-packages (from aiohttp<4.0.0,>=3.8.3->langchain) (6.0.4)\n",
            "Requirement already satisfied: yarl<2.0,>=1.0 in /usr/local/lib/python3.10/dist-packages (from aiohttp<4.0.0,>=3.8.3->langchain) (1.9.2)\n",
            "Requirement already satisfied: frozenlist>=1.1.1 in /usr/local/lib/python3.10/dist-packages (from aiohttp<4.0.0,>=3.8.3->langchain) (1.4.0)\n",
            "Requirement already satisfied: aiosignal>=1.1.2 in /usr/local/lib/python3.10/dist-packages (from aiohttp<4.0.0,>=3.8.3->langchain) (1.3.1)\n",
            "Requirement already satisfied: idna>=2.8 in /usr/local/lib/python3.10/dist-packages (from anyio<4.0->langchain) (3.4)\n",
            "Requirement already satisfied: sniffio>=1.1 in /usr/local/lib/python3.10/dist-packages (from anyio<4.0->langchain) (1.3.0)\n",
            "Requirement already satisfied: exceptiongroup in /usr/local/lib/python3.10/dist-packages (from anyio<4.0->langchain) (1.1.3)\n",
            "Requirement already satisfied: marshmallow<4.0.0,>=3.18.0 in /usr/local/lib/python3.10/dist-packages (from dataclasses-json<0.7,>=0.5.7->langchain) (3.20.1)\n",
            "Requirement already satisfied: typing-inspect<1,>=0.4.0 in /usr/local/lib/python3.10/dist-packages (from dataclasses-json<0.7,>=0.5.7->langchain) (0.9.0)\n",
            "Requirement already satisfied: jsonpointer>=1.9 in /usr/local/lib/python3.10/dist-packages (from jsonpatch<2.0,>=1.33->langchain) (2.4)\n",
            "Requirement already satisfied: typing-extensions>=4.2.0 in /usr/local/lib/python3.10/dist-packages (from pydantic<3,>=1->langchain) (4.5.0)\n",
            "Requirement already satisfied: urllib3<3,>=1.21.1 in /usr/local/lib/python3.10/dist-packages (from requests<3,>=2->langchain) (2.0.4)\n",
            "Requirement already satisfied: certifi>=2017.4.17 in /usr/local/lib/python3.10/dist-packages (from requests<3,>=2->langchain) (2023.7.22)\n",
            "Requirement already satisfied: greenlet!=0.4.17 in /usr/local/lib/python3.10/dist-packages (from SQLAlchemy<3,>=1.4->langchain) (2.0.2)\n",
            "Requirement already satisfied: packaging>=17.0 in /usr/local/lib/python3.10/dist-packages (from marshmallow<4.0.0,>=3.18.0->dataclasses-json<0.7,>=0.5.7->langchain) (23.1)\n",
            "Requirement already satisfied: mypy-extensions>=0.3.0 in /usr/local/lib/python3.10/dist-packages (from typing-inspect<1,>=0.4.0->dataclasses-json<0.7,>=0.5.7->langchain) (1.0.0)\n",
            "Requirement already satisfied: python-dotenv in /usr/local/lib/python3.10/dist-packages (1.0.0)\n",
            "Requirement already satisfied: gpt4all in /usr/local/lib/python3.10/dist-packages (1.0.12)\n",
            "Requirement already satisfied: requests in /usr/local/lib/python3.10/dist-packages (from gpt4all) (2.31.0)\n",
            "Requirement already satisfied: tqdm in /usr/local/lib/python3.10/dist-packages (from gpt4all) (4.66.1)\n",
            "Requirement already satisfied: charset-normalizer<4,>=2 in /usr/local/lib/python3.10/dist-packages (from requests->gpt4all) (3.2.0)\n",
            "Requirement already satisfied: idna<4,>=2.5 in /usr/local/lib/python3.10/dist-packages (from requests->gpt4all) (3.4)\n",
            "Requirement already satisfied: urllib3<3,>=1.21.1 in /usr/local/lib/python3.10/dist-packages (from requests->gpt4all) (2.0.4)\n",
            "Requirement already satisfied: certifi>=2017.4.17 in /usr/local/lib/python3.10/dist-packages (from requests->gpt4all) (2023.7.22)\n"
          ]
        }
      ]
    },
    {
      "cell_type": "code",
      "source": [
        "def print_smaller_lines(text, length):\n",
        "    for i in range(0, len(text), length):\n",
        "        print(text[i:i+length])"
      ],
      "metadata": {
        "id": "e2zFs9P71jXS"
      },
      "execution_count": null,
      "outputs": []
    },
    {
      "cell_type": "markdown",
      "source": [
        "# Carregando os pacotes necessários"
      ],
      "metadata": {
        "id": "z1RO-ygLpAre"
      }
    },
    {
      "cell_type": "code",
      "source": [
        "import os\n",
        "import openai\n",
        "from langchain import PromptTemplate\n",
        "from langchain.chains import LLMChain\n",
        "from langchain.llms import OpenAI\n",
        "from langchain.chat_models import ChatOpenAI\n",
        "from langchain.llms import GPT4All\n",
        "from langchain.callbacks.streaming_stdout import StreamingStdOutCallbackHandler\n",
        "\n",
        "import dotenv\n",
        "dotenv.load_dotenv('/content/drive/MyDrive/Tutorial SBBD/Colab/.env')"
      ],
      "metadata": {
        "colab": {
          "base_uri": "https://localhost:8080/"
        },
        "id": "R6fD4m-O8EVq",
        "outputId": "9fe49627-3537-43b5-ebb4-833257ccc146"
      },
      "execution_count": null,
      "outputs": [
        {
          "output_type": "execute_result",
          "data": {
            "text/plain": [
              "True"
            ]
          },
          "metadata": {},
          "execution_count": 4
        }
      ]
    },
    {
      "cell_type": "code",
      "source": [
        "project_path = \"/content/drive/MyDrive/Tutorial SBBD/Colab/\"\n",
        "dados_dir = project_path + \"Dados/\""
      ],
      "metadata": {
        "id": "JVVtai9-7kUV"
      },
      "execution_count": null,
      "outputs": []
    },
    {
      "cell_type": "code",
      "source": [
        "os.environ['OPENAI_API_KEY'] = os.getenv(\"OPENAI_API_KEY\")\n",
        "openai.api_key = os.getenv(\"OPENAI_API_KEY\")\n",
        "openai.organization = os.getenv(\"OPENAI_ORGANIZATION\")"
      ],
      "metadata": {
        "id": "1GS0T1GV8GGC"
      },
      "execution_count": null,
      "outputs": []
    },
    {
      "cell_type": "markdown",
      "source": [
        "# Prompting em um Modelo de Linguagem carregado localmente com o LangChain"
      ],
      "metadata": {
        "id": "CJklxYlDZBW1"
      }
    },
    {
      "cell_type": "code",
      "source": [
        "template = \"\"\"Question: {question}\\nAnswer: \"\"\"\n",
        "\n",
        "prompt = PromptTemplate(template=template, input_variables=[\"question\"])"
      ],
      "metadata": {
        "id": "ajG_DMWKKqCM"
      },
      "execution_count": null,
      "outputs": []
    },
    {
      "cell_type": "code",
      "source": [
        "local_path = (\n",
        "    \"/content/drive/MyDrive/Tutorial SBBD/Colab/models/llama-2-7b-chat.ggmlv3.q4_0.bin\"\n",
        ")"
      ],
      "metadata": {
        "id": "T24433JGLtHl"
      },
      "execution_count": null,
      "outputs": []
    },
    {
      "cell_type": "code",
      "source": [
        "# Callbacks support token-wise streaming\n",
        "callbacks = [StreamingStdOutCallbackHandler()]\n",
        "\n",
        "# If you want to use a custom model add the backend parameter\n",
        "# Check https://docs.gpt4all.io/gpt4all_python.html for supported backends\n",
        "llm = GPT4All(model=local_path, backend=\"llama\", callbacks=callbacks, verbose=True)"
      ],
      "metadata": {
        "colab": {
          "base_uri": "https://localhost:8080/"
        },
        "id": "4gAfhGtoLiOI",
        "outputId": "9df5e50b-8f26-4350-9517-a16cecca8eaf"
      },
      "execution_count": null,
      "outputs": [
        {
          "output_type": "stream",
          "name": "stdout",
          "text": [
            "Found model file at  /content/drive/MyDrive/Tutorial SBBD/Colab/models/llama-2-7b-chat.ggmlv3.q4_0.bin\n"
          ]
        }
      ]
    },
    {
      "cell_type": "code",
      "source": [
        "llm_chain = LLMChain(prompt=prompt, llm=llm)"
      ],
      "metadata": {
        "id": "UfjgirM0Loq0"
      },
      "execution_count": null,
      "outputs": []
    },
    {
      "cell_type": "code",
      "source": [
        "question = \"Beyonce was a member of which famous girl band?\"\n",
        "\n",
        "llm_chain.run(question)"
      ],
      "metadata": {
        "colab": {
          "base_uri": "https://localhost:8080/",
          "height": 53
        },
        "id": "ZF3IEtt2Lqev",
        "outputId": "4476d5c6-be93-4ce6-8791-42154d282460"
      },
      "execution_count": null,
      "outputs": [
        {
          "output_type": "stream",
          "name": "stdout",
          "text": [
            " Beyoncé was not in any girl bands. She started her career as the lead singer of Destiny's Child, but she has since become a successful solo artist."
          ]
        },
        {
          "output_type": "execute_result",
          "data": {
            "text/plain": [
              "\" Beyoncé was not in any girl bands. She started her career as the lead singer of Destiny's Child, but she has since become a successful solo artist.\""
            ],
            "application/vnd.google.colaboratory.intrinsic+json": {
              "type": "string"
            }
          },
          "metadata": {},
          "execution_count": 11
        }
      ]
    },
    {
      "cell_type": "code",
      "source": [
        "template = \"\"\"Question: {question}\n",
        "Answer: Think step-by-step.\"\"\"\n",
        "\n",
        "prompt = PromptTemplate(template=template, input_variables=[\"question\"])\n",
        "llm_chain = LLMChain(prompt=prompt, llm=llm)"
      ],
      "metadata": {
        "id": "ewHqT7LVKNN1"
      },
      "execution_count": null,
      "outputs": []
    },
    {
      "cell_type": "code",
      "source": [
        "question = \"Beyonce was a member of which famous girl band?\"\n",
        "llm_chain.run(question)"
      ],
      "metadata": {
        "colab": {
          "base_uri": "https://localhost:8080/",
          "height": 53
        },
        "id": "YzNUNH_CgOl2",
        "outputId": "88ff2e2b-809f-4beb-eeff-5b4ed5177cf8"
      },
      "execution_count": null,
      "outputs": [
        {
          "output_type": "stream",
          "name": "stdout",
          "text": [
            " Beyoncé was not in any girl group, she started her career as the lead singer of Destiny's Child before pursuing a successful solo career."
          ]
        },
        {
          "output_type": "execute_result",
          "data": {
            "text/plain": [
              "\" Beyoncé was not in any girl group, she started her career as the lead singer of Destiny's Child before pursuing a successful solo career.\""
            ],
            "application/vnd.google.colaboratory.intrinsic+json": {
              "type": "string"
            }
          },
          "metadata": {},
          "execution_count": 13
        }
      ]
    },
    {
      "cell_type": "markdown",
      "source": [
        "# Engenharia de Prompts com LangChain e ChatGPT"
      ],
      "metadata": {
        "id": "aGkkcFFNeyoW"
      }
    },
    {
      "cell_type": "code",
      "source": [
        "llm = ChatOpenAI(model_name=\"gpt-3.5-turbo\", temperature=0.1, max_tokens=256)"
      ],
      "metadata": {
        "id": "1Rz0PbPZf1_f"
      },
      "execution_count": null,
      "outputs": []
    },
    {
      "cell_type": "markdown",
      "source": [
        "## 1 - Injetando Padrões"
      ],
      "metadata": {
        "id": "1HjBfeQJfxHh"
      }
    },
    {
      "cell_type": "markdown",
      "source": [
        "### 1.1 Extração de Informação"
      ],
      "metadata": {
        "id": "Dyhigf44kAhg"
      }
    },
    {
      "cell_type": "code",
      "source": [
        "input_prompt = PromptTemplate(\n",
        "    input_variables=[\"texto\"],\n",
        "    template =\n",
        "    'TEXTO: {texto}\\n' \\\n",
        "    'Dado o texto acima, extraia informações importantes no formato abaixo:\\n' \\\n",
        "    '<CHAVE>: <VALOR>'\\\n",
        "    'Preserve a exata formatação apresentada.'\n",
        ")"
      ],
      "metadata": {
        "id": "b4oTMjZue312"
      },
      "execution_count": null,
      "outputs": []
    },
    {
      "cell_type": "code",
      "source": [
        "texto = \"Alan Mathison Turing (Londres, 23 de junho de 1912 — Wilmslow, Cheshire, 7 de junho de 1954)\"\\\n",
        "        \"foi um matemático, cientista da computação, lógico, criptoanalista, filósofo e biólogo teórico \"\\\n",
        "        \"britânico. Turing foi altamente influente no desenvolvimento da moderna ciência da computação \"\\\n",
        "        \"teórica, proporcionando uma formalização dos conceitos de algoritmo e computação com a máquina \"\\\n",
        "        \"de Turing, que pode ser considerada um modelo de um computador de uso geral. Ele é amplamente \"\\\n",
        "        \"considerado o pai da ciência da computação teórica e da inteligência artificial. Apesar dessas \"\\\n",
        "        \"realizações ele nunca foi totalmente reconhecido em seu país de origem durante sua vida por ser \"\\\n",
        "        \"homossexual e porque grande parte de seu trabalho foi coberto pela Lei de Segredos Oficiais.\"\n",
        "\n",
        "chain = LLMChain(llm=llm, prompt=input_prompt)\n",
        "result = chain.run(texto=texto)\n",
        "print_smaller_lines(result, 120)\n"
      ],
      "metadata": {
        "colab": {
          "base_uri": "https://localhost:8080/"
        },
        "id": "TOZ3xFl8g_QQ",
        "outputId": "7a72d691-c714-40d6-e0d3-f507052c0595"
      },
      "execution_count": null,
      "outputs": [
        {
          "output_type": "stream",
          "name": "stdout",
          "text": [
            "Nome: Alan Mathison Turing\n",
            "Data de nascimento: 23 de junho de 1912\n",
            "Local de nascimento: Londres\n",
            "Data de falecimento: 7 d\n",
            "e junho de 1954\n",
            "Local de falecimento: Wilmslow, Cheshire\n",
            "Profissões: Matemático, cientista da computação, lógico, cripto\n",
            "analista, filósofo e biólogo teórico\n",
            "Contribuições: Desenvolvimento da moderna ciência da computação teórica, formalizaç\n",
            "ão dos conceitos de algoritmo e computação com a máquina de Turing, considerado o pai da ciência da computação teórica e\n",
            " da inteligência artificial\n",
            "Fatores que afetaram seu reconhecimento: Homossexualidade e cobertura de seu trabalho pela L\n",
            "ei de Segredos Oficiais.\n"
          ]
        }
      ]
    },
    {
      "cell_type": "markdown",
      "source": [
        "### 1.2 Análise de Sentimentos"
      ],
      "metadata": {
        "id": "RccROVJmj33Q"
      }
    },
    {
      "cell_type": "code",
      "source": [
        "texto = \"1 - Minha Experiência na loja foi incrível.\"\\\n",
        "        \"2 - Eu acho que podiam melhorar o produto.\"\\\n",
        "        \"3 - O atendimento foi horrível!\"\\\n",
        "        \"4 - Não volto mais.\"\\\n",
        "        \"5 - Recomendo demais a banoffe. É uma delícia!\""
      ],
      "metadata": {
        "id": "Qck5PLYfmpLr"
      },
      "execution_count": null,
      "outputs": []
    },
    {
      "cell_type": "code",
      "source": [
        "input_prompt1 = PromptTemplate(\n",
        "    input_variables=[\"texto\"],\n",
        "    template =\n",
        "    'Classifique os exemplos a seguir de acordo com as ' \\\n",
        "    'seguintes polaridades Positivo, Negativo e Neutro.\\n' \\\n",
        "    'EXEMPLOS:\\n{texto}'\n",
        ")"
      ],
      "metadata": {
        "id": "_RFMPMUFjPtF"
      },
      "execution_count": null,
      "outputs": []
    },
    {
      "cell_type": "code",
      "source": [
        "chain = LLMChain(llm=llm, prompt=input_prompt1)\n",
        "result = chain.run(texto=texto)\n",
        "print(result)"
      ],
      "metadata": {
        "colab": {
          "base_uri": "https://localhost:8080/"
        },
        "id": "RnGbvBufhvOF",
        "outputId": "504fced7-52fa-4903-e110-55456faa6713"
      },
      "execution_count": null,
      "outputs": [
        {
          "output_type": "stream",
          "name": "stdout",
          "text": [
            "1 - Positivo\n",
            "2 - Neutro\n",
            "3 - Negativo\n",
            "4 - Negativo\n",
            "5 - Positivo\n"
          ]
        }
      ]
    },
    {
      "cell_type": "code",
      "source": [
        "input_prompt2 = PromptTemplate(\n",
        "    input_variables=[\"texto\"],\n",
        "    template =\n",
        "    'Classifique os exemplos a seguir de acordo com as polaridades Positivo, Negativo e Neutro.'\\\n",
        "    'Utilize o seguinte formato ###DECLARAÇÃO: <DECLARAÇÃO>\\n###POLARIDADE: <POLARIDADE>.\\n' \\\n",
        "    '{texto}'\n",
        ")\n",
        "chain = LLMChain(llm=llm, prompt=input_prompt2)\n",
        "result = chain.run(texto=texto)\n",
        "print(result)"
      ],
      "metadata": {
        "colab": {
          "base_uri": "https://localhost:8080/"
        },
        "id": "Ms6-paJnmf7u",
        "outputId": "6a3e692e-b715-4245-a29f-e08a90c3d1eb"
      },
      "execution_count": null,
      "outputs": [
        {
          "output_type": "stream",
          "name": "stdout",
          "text": [
            "###DECLARAÇÃO: Minha Experiência na loja foi incrível.\n",
            "###POLARIDADE: Positivo.\n",
            "\n",
            "###DECLARAÇÃO: Eu acho que podiam melhorar o produto.\n",
            "###POLARIDADE: Neutro.\n",
            "\n",
            "###DECLARAÇÃO: O atendimento foi horrível!\n",
            "###POLARIDADE: Negativo.\n",
            "\n",
            "###DECLARAÇÃO: Não volto mais.\n",
            "###POLARIDADE: Negativo.\n",
            "\n",
            "###DECLARAÇÃO: Recomendo demais a banoffe. É uma delícia!\n",
            "###POLARIDADE: Positivo.\n"
          ]
        }
      ]
    },
    {
      "cell_type": "markdown",
      "source": [
        "### 1.3 Perguntas e Respostas"
      ],
      "metadata": {
        "id": "eRxJYh58kG_0"
      }
    },
    {
      "cell_type": "code",
      "source": [
        "llm = ChatOpenAI(model_name=\"gpt-3.5-turbo\", temperature=0.1, max_tokens=512)"
      ],
      "metadata": {
        "id": "e28jLhKXlyZG"
      },
      "execution_count": null,
      "outputs": []
    },
    {
      "cell_type": "code",
      "source": [
        "input_prompt = PromptTemplate(\n",
        "    input_variables=[\"texto\"],\n",
        "    template =\n",
        "    'Dado o texto a seguir: {texto}\\n' \\\n",
        "    'Gere quatro questões e suas respectivas respostas utilizando o template abaixo.\\n'\\\n",
        "    'Preserve a exata formatação do template apresentado:'\\\n",
        "    'PERGUNTA: <pergunta gerada>'\\\n",
        "    'RESPOSTA: <resposta>'\n",
        ")"
      ],
      "metadata": {
        "id": "C9mpAd-DkYw3"
      },
      "execution_count": null,
      "outputs": []
    },
    {
      "cell_type": "code",
      "source": [
        "texto = 'Alan Mathison Turing (Londres, 23 de junho de 1912 — Wilmslow, Cheshire, 7 de junho de 1954) '\\\n",
        "        'foi um matemático, cientista da computação, lógico, criptoanalista, filósofo e biólogo teórico '\\\n",
        "        'britânico. Turing foi altamente influente no desenvolvimento da moderna ciência da computação '\\\n",
        "        'teórica, proporcionando uma formalização dos conceitos de algoritmo e computação com a máquina '\\\n",
        "        'de Turing, que pode ser considerada um modelo de um computador de uso geral. Ele é amplamente '\\\n",
        "        'considerado o pai da ciência da computação teórica e da inteligência artificial. Apesar dessas '\\\n",
        "        'realizações ele nunca foi totalmente reconhecido em seu país de origem durante sua vida por ser '\\\n",
        "        'homossexual e porque grande parte de seu trabalho foi coberto pela Lei de Segredos Oficiais.'\n",
        "\n",
        "chain = LLMChain(llm=llm, prompt=input_prompt)\n",
        "result = chain.run(texto=texto)\n",
        "print_smaller_lines(result, 100)"
      ],
      "metadata": {
        "colab": {
          "base_uri": "https://localhost:8080/"
        },
        "id": "IdMPMRVnju7y",
        "outputId": "73311a33-6dd4-4f01-a7cf-1d025d36397b"
      },
      "execution_count": null,
      "outputs": [
        {
          "output_type": "stream",
          "name": "stdout",
          "text": [
            "PERGUNTA: Quais foram as áreas de atuação de Alan Turing?\n",
            "RESPOSTA: Alan Turing atuou como matemátic\n",
            "o, cientista da computação, lógico, criptoanalista, filósofo e biólogo teórico.\n",
            "\n",
            "PERGUNTA: Qual foi \n",
            "a contribuição de Alan Turing para a ciência da computação?\n",
            "RESPOSTA: Alan Turing foi altamente infl\n",
            "uente no desenvolvimento da moderna ciência da computação teórica, proporcionando uma formalização d\n",
            "os conceitos de algoritmo e computação com a máquina de Turing.\n",
            "\n",
            "PERGUNTA: Por que Alan Turing é con\n",
            "siderado o pai da ciência da computação teórica e da inteligência artificial?\n",
            "RESPOSTA: Alan Turing \n",
            "é considerado o pai da ciência da computação teórica e da inteligência artificial devido às suas con\n",
            "tribuições significativas no desenvolvimento dessas áreas, como a formalização dos conceitos de algo\n",
            "ritmo e computação com a máquina de Turing.\n",
            "\n",
            "PERGUNTA: Por que Alan Turing não foi totalmente reconh\n",
            "ecido em seu país de origem durante sua vida?\n",
            "RESPOSTA: Alan Turing não foi totalmente reconhecido e\n",
            "m seu país de origem durante sua vida por ser homossexual e porque grande parte de seu trabalho foi \n",
            "coberto pela Lei de Segredos Oficiais.\n"
          ]
        }
      ]
    },
    {
      "cell_type": "markdown",
      "source": [
        "## 2 - Padrão Persona\n",
        "\n",
        "\n",
        "*   Introduz ao modelo uma representação fictícia ou não, normalmente a de um especialista em um domínio ou personalidade específica\n",
        "\n",
        "*   É útil quando não se tem certeza sobre os detalhes exatos da saída esperada mas você sabe quem procurar para lhe entregar o resultado esperado\n",
        "\n"
      ],
      "metadata": {
        "id": "DCD_7G4emIoZ"
      }
    },
    {
      "cell_type": "code",
      "source": [
        "llm = ChatOpenAI(model_name=\"gpt-3.5-turbo\", temperature=0.1, max_tokens=512)"
      ],
      "metadata": {
        "id": "Fu-DkuLIk-P1"
      },
      "execution_count": null,
      "outputs": []
    },
    {
      "cell_type": "markdown",
      "source": [
        "### 2.1 Um advogado especialista"
      ],
      "metadata": {
        "id": "5dZ0yuXIsyn2"
      }
    },
    {
      "cell_type": "code",
      "source": [
        "texto = 'Escreva como se fosse um advogado brasileiro especialista em direito penal.'\\\n",
        "        'Pontue de forma resumida as possíveis penas para um caso de lesão corporal leve sem contexto de violência doméstica.'\n",
        "\n",
        "result = llm.predict(texto)\n",
        "print_smaller_lines(result, 120)"
      ],
      "metadata": {
        "colab": {
          "base_uri": "https://localhost:8080/"
        },
        "id": "OE1bHs_mncCs",
        "outputId": "19127f84-ca21-409c-ef1f-c026f4288c02"
      },
      "execution_count": null,
      "outputs": [
        {
          "output_type": "stream",
          "name": "stdout",
          "text": [
            "Como advogado especialista em direito penal, é importante ressaltar que as penas para um caso de lesão corporal leve sem\n",
            " contexto de violência doméstica podem variar de acordo com as circunstâncias específicas do caso e a legislação vigente\n",
            " no Brasil. No entanto, de forma geral, as possíveis penas podem incluir:\n",
            "\n",
            "1. Pena de detenção: A pena de detenção pode \n",
            "variar de 3 meses a 1 ano, dependendo da gravidade da lesão e das circunstâncias do caso.\n",
            "\n",
            "2. Prestação de serviços à co\n",
            "munidade: Além da pena de detenção, o juiz pode determinar a prestação de serviços à comunidade como forma de punição ao\n",
            " agressor.\n",
            "\n",
            "3. Multa: O agressor também pode ser condenado ao pagamento de multa, cujo valor será estabelecido pelo juiz\n",
            ", considerando a capacidade financeira do agressor e a gravidade da lesão.\n",
            "\n",
            "4. Suspensão condicional do processo: Em alg\n",
            "uns casos, o juiz pode optar por suspender condicionalmente o processo, desde que o agressor cumpra determinadas condiçõ\n",
            "es, como não se envolver em novos delitos e comparecer periodicamente ao juízo.\n",
            "\n",
            "É importante ressaltar que cada caso é \n",
            "único e as penas podem variar de acordo com as circunstâncias específicas, como a existência de agravantes ou atenuantes\n",
            ", antecedentes criminais do agressor, entre outros fatores. Portanto, é fundamental contar com a assistência de um advog\n",
            "ado especializado em direito penal para analisar o caso e buscar a melhor estratégia de defesa.\n"
          ]
        }
      ]
    },
    {
      "cell_type": "markdown",
      "source": [
        "### 2.2 Um crítico gastronômico"
      ],
      "metadata": {
        "id": "TuGU9uLgs3O3"
      }
    },
    {
      "cell_type": "code",
      "source": [
        "llm = ChatOpenAI(model_name=\"gpt-3.5-turbo\", temperature=0.1, max_tokens=512)\n",
        "\n",
        "texto = 'Você é um crítico gastronômico e está muito irritado com o tipo de serviço e atendimento de um restaurante que acabou de visitar.'\\\n",
        "        'Escreva uma curta review do estabelecimento.'\n",
        "\n",
        "result = llm.predict(texto)\n",
        "print_smaller_lines(result, 120)"
      ],
      "metadata": {
        "colab": {
          "base_uri": "https://localhost:8080/"
        },
        "id": "F-WEfDXon8_z",
        "outputId": "e7e05aff-eaf3-495e-9cdf-9f869830aafb"
      },
      "execution_count": null,
      "outputs": [
        {
          "output_type": "stream",
          "name": "stdout",
          "text": [
            "Review do Restaurante \"Sabor Amargo\"\n",
            "\n",
            "Minha experiência no restaurante \"Sabor Amargo\" foi extremamente decepcionante. De\n",
            "sde o momento em que entrei, fui recebido com uma falta de cortesia e profissionalismo por parte da equipe de atendiment\n",
            "o. O garçom parecia mais interessado em conversar com os colegas do que em nos atender.\n",
            "\n",
            "Além disso, o serviço foi extre\n",
            "mamente lento e desorganizado. Tive que esperar por mais de 30 minutos para receber o cardápio, e quando finalmente fize\n",
            "mos o pedido, os pratos demoraram uma eternidade para chegar à mesa. Durante toda a espera, nenhum membro da equipe se p\n",
            "reocupou em nos informar sobre o atraso ou oferecer qualquer tipo de compensação.\n",
            "\n",
            "Quanto à comida, fiquei igualmente de\n",
            "sapontado. Os pratos chegaram frios e sem sabor, como se tivessem sido preparados com pressa e sem cuidado. A apresentaç\n",
            "ão também deixou muito a desejar, com os pratos parecendo desleixados e pouco apetitosos.\n",
            "\n",
            "Além disso, o ambiente do res\n",
            "taurante era extremamente barulhento e desconfortável. A música alta e as conversas animadas das mesas vizinhas tornaram\n",
            " impossível ter uma conversa tranquila e desfrutar da refeição.\n",
            "\n",
            "No geral, minha experiência no restaurante \"Sabor Amarg\n",
            "o\" foi extremamente frustrante. O serviço e atendimento foram deploráveis, a comida deixou muito a desejar e o ambiente \n",
            "era desagradável. Não recomendaria este estabelecimento a ninguém e certamente não voltarei.\n"
          ]
        }
      ]
    },
    {
      "cell_type": "markdown",
      "source": [
        "### 2.3 Um Astrofísico"
      ],
      "metadata": {
        "id": "7wlPoBvNs8R5"
      }
    },
    {
      "cell_type": "code",
      "source": [
        "llm = ChatOpenAI(model_name=\"gpt-3.5-turbo\", temperature=0.1, max_tokens=512)\n",
        "\n",
        "texto = 'Escreva como se fosse um astrofísico. Me explique por que o universo está expandindo.'\n",
        "\n",
        "result = llm.predict(texto)\n",
        "print_smaller_lines(result, 120)"
      ],
      "metadata": {
        "colab": {
          "base_uri": "https://localhost:8080/"
        },
        "id": "A18D5Xk7oOWg",
        "outputId": "a345bb84-8903-4024-e996-b6a98078bc97"
      },
      "execution_count": null,
      "outputs": [
        {
          "output_type": "stream",
          "name": "stdout",
          "text": [
            "A expansão do universo é um fenômeno fascinante e complexo que tem sido objeto de estudo e debate entre os astrofísicos \n",
            "ao longo das últimas décadas. Para entender por que o universo está se expandindo, é necessário compreender alguns conce\n",
            "itos fundamentais da cosmologia.\n",
            "\n",
            "De acordo com a teoria do Big Bang, o universo teve origem em um estado extremamente d\n",
            "enso e quente, há aproximadamente 13,8 bilhões de anos. Desde então, o universo tem passado por um processo contínuo de \n",
            "expansão. Essa expansão é evidenciada pela observação de que as galáxias estão se afastando umas das outras em todas as \n",
            "direções.\n",
            "\n",
            "A principal explicação para a expansão do universo é a presença de uma forma de energia misteriosa chamada en\n",
            "ergia escura. A energia escura é uma força repulsiva que age como uma espécie de antigravidade, empurrando as galáxias p\n",
            "ara longe umas das outras. Ela é responsável por cerca de 70% da composição total do universo.\n",
            "\n",
            "A energia escura é uma d\n",
            "as maiores incógnitas da astrofísica atual. Sua natureza exata ainda é desconhecida, mas acredita-se que seja uma propri\n",
            "edade intrínseca do espaço vazio. Ela não interage com a matéria ou a radiação e sua influência se torna mais significat\n",
            "iva à medida que o universo se expande.\n",
            "\n",
            "Outro fator que contribui para a expansão do universo é a matéria escura. A mat\n",
            "éria escura é uma forma de matéria que não emite, absorve ou reflete luz, tornando-se invisível aos nossos instrumentos \n",
            "de observação. No entanto, sua presença é inferida a partir dos efeitos gravitacionais que exerce sobre a matéria visíve\n",
            "l. A matéria escura atua como uma espécie de \"cola cósmica\", atraindo as galáxias umas para as outras e desempenhando um\n",
            " papel importante na formação das estruturas do universo.\n",
            "\n",
            "Embora a energia escura e a matéria escura sejam fundamentais\n",
            " para explicar a expansão do universo, ainda há muito a ser descoberto e compreendido\n"
          ]
        }
      ]
    },
    {
      "cell_type": "code",
      "source": [
        "texto = 'Você é um astrofísico. Me explique por que o universo está expandindo. Me explique como se eu tivesse 12 anos.'\n",
        "\n",
        "result = llm.predict(texto)\n",
        "print_smaller_lines(result, 120)"
      ],
      "metadata": {
        "colab": {
          "base_uri": "https://localhost:8080/"
        },
        "id": "4YODfSumqC9C",
        "outputId": "80dd0e6d-2516-48d4-a282-407c8c200a0c"
      },
      "execution_count": null,
      "outputs": [
        {
          "output_type": "stream",
          "name": "stdout",
          "text": [
            "Claro! Vou explicar de uma forma simples e fácil de entender.\n",
            "\n",
            "Imagine que o universo é como uma pizza, mas em vez de te\n",
            "r uma borda fixa, ela está sempre crescendo. As fatias de pizza representam as galáxias, que são grupos de estrelas, pla\n",
            "netas e outros objetos cósmicos.\n",
            "\n",
            "Agora, pense que você está no centro da pizza, em uma fatia de queijo. Se você olhar p\n",
            "ara as outras fatias, vai perceber que todas estão se afastando de você. Isso acontece porque o espaço entre as fatias e\n",
            "stá se expandindo.\n",
            "\n",
            "Essa expansão do universo foi descoberta por astrônomos observando as galáxias. Eles perceberam que,\n",
            " em geral, as galáxias estão se afastando umas das outras. Isso significa que o espaço entre elas está ficando maior.\n",
            "\n",
            "M\n",
            "as por que isso está acontecendo? Bem, os cientistas ainda estão estudando isso, mas acredita-se que seja resultado de u\n",
            "ma grande explosão chamada Big Bang, que aconteceu há cerca de 13,8 bilhões de anos.\n",
            "\n",
            "No momento do Big Bang, todo o uni\n",
            "verso estava concentrado em um ponto extremamente quente e denso. A explosão fez com que o espaço se expandisse rapidame\n",
            "nte, e essa expansão continua até hoje.\n",
            "\n",
            "Então, basicamente, o universo está em constante expansão porque o espaço entre\n",
            " as galáxias está se tornando cada vez maior. É como se a pizza estivesse crescendo, fazendo com que as fatias se afaste\n",
            "m umas das outras.\n",
            "\n",
            "Espero que isso tenha ajudado a entender um pouco mais sobre a expansão do universo! Se tiver mais p\n",
            "erguntas, é só me dizer.\n"
          ]
        }
      ]
    },
    {
      "cell_type": "markdown",
      "source": [
        "## 3 - Refinamento de Perguntas"
      ],
      "metadata": {
        "id": "kl_UcCGwsvmH"
      }
    },
    {
      "cell_type": "code",
      "source": [
        "from langchain.chains import ConversationChain\n",
        "from langchain.memory import ConversationBufferMemory"
      ],
      "metadata": {
        "id": "OfNfAg2It1Se"
      },
      "execution_count": null,
      "outputs": []
    },
    {
      "cell_type": "code",
      "source": [
        "llm = ChatOpenAI(model_name=\"gpt-3.5-turbo\", temperature=0.1, max_tokens=512)\n",
        "\n",
        "conversation = ConversationChain(\n",
        "    llm=llm,\n",
        "    memory=ConversationBufferMemory()\n",
        ")\n",
        "\n",
        "def chatbot(texto):\n",
        "    res = conversation.predict(input=texto)\n",
        "    return res\n",
        "\n",
        "texto = 'Sempre que eu fizer uma pergunta relacionada a jurisprudência brasileira, '\\\n",
        "          'sugira uma pergunta mais refinada considerando as especificidades do '\\\n",
        "          'direito brasileiro. Pergunte se eu gostaria de utilizar a pergunta sugerida.'\n",
        "while True:\n",
        "  response = conversation.predict(input=texto)\n",
        "  print(\"CHATGPT: \", response)\n",
        "\n",
        "  texto = input(\"USER: \")\n",
        "  if texto.lower() == 'sair':\n",
        "    break"
      ],
      "metadata": {
        "colab": {
          "base_uri": "https://localhost:8080/"
        },
        "id": "GRtDuhMPsGd7",
        "outputId": "00f2072f-1d13-46b5-a689-7c7e69372018"
      },
      "execution_count": null,
      "outputs": [
        {
          "name": "stdout",
          "output_type": "stream",
          "text": [
            "CHATGPT:  Claro, posso fazer isso! Sempre que você fizer uma pergunta relacionada à jurisprudência brasileira, posso sugerir uma pergunta mais refinada levando em consideração as especificidades do direito brasileiro. Em seguida, perguntarei se você gostaria de utilizar a pergunta sugerida. Isso parece bom para você?\n",
            "USER: posso ser preso por lesão corporal?\n",
            "CHATGPT:  De acordo com o Código Penal Brasileiro, a lesão corporal é considerada um crime. No entanto, a resposta para a sua pergunta depende de vários fatores, como a gravidade da lesão, as circunstâncias em que ocorreu e se houve intenção de causar dano. Além disso, é importante considerar a jurisprudência brasileira, que pode fornecer orientações mais específicas sobre casos semelhantes. Posso sugerir uma pergunta mais refinada considerando as especificidades do direito brasileiro?\n",
            "USER: sim\n",
            "CHATGPT:  Com base nas informações fornecidas, uma pergunta mais refinada considerando as especificidades do direito brasileiro poderia ser: \"Quais são os critérios utilizados pela jurisprudência brasileira para determinar se uma lesão corporal é considerada grave o suficiente para resultar em prisão?\". Gostaria de utilizar essa pergunta sugerida?\n",
            "USER: sim\n",
            "CHATGPT:  Ótimo! Vou registrar sua pergunta sugerida: \"Quais são os critérios utilizados pela jurisprudência brasileira para determinar se uma lesão corporal é considerada grave o suficiente para resultar em prisão?\". Agora, vou pesquisar a resposta para você. Por favor, aguarde um momento.\n",
            "USER: aguardando...\n",
            "CHATGPT:  Após realizar uma pesquisa, encontrei algumas informações relevantes sobre os critérios utilizados pela jurisprudência brasileira para determinar se uma lesão corporal é considerada grave o suficiente para resultar em prisão. De acordo com a jurisprudência, a gravidade da lesão é avaliada levando em consideração fatores como a extensão do dano físico, a duração da incapacidade para o trabalho, a necessidade de tratamento médico e a possibilidade de sequelas permanentes. Além disso, a jurisprudência também considera as circunstâncias em que a lesão ocorreu, como a presença de violência doméstica, a relação entre agressor e vítima, e se houve intenção de causar dano. No entanto, é importante ressaltar que cada caso é analisado individualmente pelos tribunais, levando em consideração todas as circunstâncias específicas.\n",
            "USER: sair\n"
          ]
        }
      ]
    },
    {
      "cell_type": "markdown",
      "source": [
        "CHATGPT:  Claro, posso fazer isso! Sempre que você fizer uma pergunta relacionada à jurisprudência brasileira, posso sugerir uma pergunta mais refinada levando em consideração as especificidades do direito brasileiro. Em seguida, perguntarei se você gostaria de utilizar a pergunta sugerida. Isso parece bom para você?\n",
        "\n",
        "USER: posso ser preso por lesão corporal?\n",
        "\n",
        "CHATGPT:  De acordo com o Código Penal Brasileiro, a lesão corporal é considerada um crime. No entanto, a resposta para a sua pergunta depende de vários fatores, como a gravidade da lesão, as circunstâncias em que ocorreu e se houve intenção de causar dano. Além disso, é importante considerar a jurisprudência brasileira, que pode fornecer orientações mais específicas sobre casos semelhantes. Posso sugerir uma pergunta mais refinada considerando as especificidades do direito brasileiro?\n",
        "\n",
        "USER: sim\n",
        "\n",
        "CHATGPT:  Com base nas informações fornecidas, uma pergunta mais refinada considerando as especificidades do direito brasileiro poderia ser: \"Quais são os critérios utilizados pela jurisprudência brasileira para determinar se uma lesão corporal é considerada grave o suficiente para resultar em prisão?\". Gostaria de utilizar essa pergunta sugerida?\n",
        "\n",
        "USER: sim\n",
        "\n",
        "CHATGPT:  Ótimo! Vou registrar sua pergunta sugerida: \"Quais são os critérios utilizados pela jurisprudência brasileira para determinar se uma lesão corporal é considerada grave o suficiente para resultar em prisão?\". Agora, vou pesquisar a resposta para você. Por favor, aguarde um momento.\n",
        "\n",
        "USER: aguardando...\n",
        "\n",
        "CHATGPT:  Após realizar uma pesquisa, encontrei algumas informações relevantes sobre os critérios utilizados pela jurisprudência brasileira para determinar se uma lesão corporal é considerada grave o suficiente para resultar em prisão. De acordo com a jurisprudência, a gravidade da lesão é avaliada levando em consideração fatores como a extensão do dano físico, a duração da incapacidade para o trabalho, a necessidade de tratamento médico e a possibilidade de sequelas permanentes. Além disso, a jurisprudência também considera as circunstâncias em que a lesão ocorreu, como a presença de violência doméstica, a relação entre agressor e vítima, e se houve intenção de causar dano. No entanto, é importante ressaltar que cada caso é analisado individualmente pelos tribunais, levando em consideração todas as circunstâncias específicas.\n",
        "\n",
        "USER: sair"
      ],
      "metadata": {
        "id": "nO1dGXw8ri4b"
      }
    },
    {
      "cell_type": "markdown",
      "source": [
        "## 4 - Padrão de Verificação Cognitiva\n",
        "Divide perguntas complexas em subperguntas menores e gerenciáveis."
      ],
      "metadata": {
        "id": "LWSrGEN8v_T9"
      }
    },
    {
      "cell_type": "code",
      "source": [
        "llm = ChatOpenAI(model_name=\"gpt-3.5-turbo\", temperature=0.1, max_tokens=256)\n",
        "\n",
        "texto = 'Em um caso de agressão corporal o indivíduo agredido sofreu sequelas '\\\n",
        "        'permanentes e encontra-se impossibilitado de trabalhar. O agressor poderá ser sentenciado ' \\\n",
        "        'à prisão e ao pagamento de indenização vitalícia? Considere a legislação brasileira.'\n",
        "\n",
        "result = llm.predict(texto)\n",
        "print_smaller_lines(result, 120)"
      ],
      "metadata": {
        "colab": {
          "base_uri": "https://localhost:8080/"
        },
        "id": "qnVErkPF9srd",
        "outputId": "2caf81b3-1b90-4bc6-c31f-4f8125e836eb"
      },
      "execution_count": null,
      "outputs": [
        {
          "output_type": "stream",
          "name": "stdout",
          "text": [
            "Sim, de acordo com a legislação brasileira, o agressor poderá ser sentenciado à prisão e ao pagamento de indenização vit\n",
            "alícia no caso de agressão corporal que resulte em sequelas permanentes e impossibilidade de trabalhar para o indivíduo \n",
            "agredido.\n",
            "\n",
            "A agressão corporal é considerada um crime no Brasil, previsto no Código Penal. Dependendo da gravidade da ag\n",
            "ressão, o agressor pode ser enquadrado em diferentes tipos penais, como lesão corporal leve, grave, gravíssima ou seguid\n",
            "a de morte.\n",
            "\n",
            "Além da pena de prisão, o agressor também pode ser condenado a pagar uma indenização à vítima. Essa indeniz\n",
            "ação tem o objetivo de compensar os danos físicos, psicológicos e materiais causados pela agressão. No caso de sequelas \n",
            "permanentes que impossibilitem o trabalho, a indenização pode ser vitalícia, ou seja, paga mensalmente ao longo da vida \n",
            "da vítima.\n",
            "\n",
            "É importante ressaltar que cada caso é analisado individualmente pelo juiz, levando em consideração\n"
          ]
        }
      ]
    },
    {
      "cell_type": "code",
      "source": [
        "llm = ChatOpenAI(model_name=\"gpt-3.5-turbo\", temperature=0.1, max_tokens=1024)\n",
        "\n",
        "texto = 'Separe a pergunta abaixo em subperguntas e suas respectivas respostas. '\\\n",
        "        'Ao final, combine as respostas das subperguntas e as sumarize em uma única resposta final refinada.'\\\n",
        "        'Pergunta: Em um caso de agressão corporal o indivíduo agredido sofreu sequelas '\\\n",
        "        'permanentes e encontra-se impossibilitado de trabalhar. O agressor poderá ser sentenciado ' \\\n",
        "        'à prisão e ao pagamento de indenização vitalícia? Considere a legislação brasileira.'\n",
        "\n",
        "result = llm.predict(texto)\n",
        "print_smaller_lines(result, 120)"
      ],
      "metadata": {
        "colab": {
          "base_uri": "https://localhost:8080/"
        },
        "id": "w50DLcT8uhto",
        "outputId": "2c766259-44bf-4c3e-cee8-320b21c6ccd5"
      },
      "execution_count": null,
      "outputs": [
        {
          "output_type": "stream",
          "name": "stdout",
          "text": [
            "Subperguntas:\n",
            "\n",
            "1. Em um caso de agressão corporal, o agressor pode ser sentenciado à prisão?\n",
            "2. Em um caso de agressão c\n",
            "orporal, o agressor pode ser obrigado a pagar uma indenização?\n",
            "3. Em um caso de agressão corporal, a indenização pode se\n",
            "r vitalícia?\n",
            "4. Qual é a legislação brasileira que trata de casos de agressão corporal?\n",
            "\n",
            "Respostas:\n",
            "\n",
            "1. Sim, de acordo c\n",
            "om a legislação brasileira, o agressor pode ser sentenciado à prisão em casos de agressão corporal, dependendo da gravid\n",
            "ade do crime.\n",
            "2. Sim, o agressor pode ser obrigado a pagar uma indenização à vítima em casos de agressão corporal, de ac\n",
            "ordo com a legislação brasileira.\n",
            "3. Sim, em casos de agressão corporal que resultem em sequelas permanentes e impossibi\n",
            "lidade de trabalhar, a indenização pode ser vitalícia, conforme a legislação brasileira.\n",
            "4. A legislação brasileira que \n",
            "trata de casos de agressão corporal é o Código Penal Brasileiro, mais especificamente os artigos que tratam de lesão cor\n",
            "poral e suas consequências.\n",
            "\n",
            "Resposta final refinada: Sim, de acordo com a legislação brasileira, em um caso de agressão\n",
            " corporal em que o indivíduo agredido sofreu sequelas permanentes e encontra-se impossibilitado de trabalhar, o agressor\n",
            " pode ser sentenciado à prisão e obrigado a pagar uma indenização vitalícia à vítima. Isso está previsto no Código Penal\n",
            " Brasileiro, nos artigos que tratam de lesão corporal e suas consequências.\n"
          ]
        }
      ]
    },
    {
      "cell_type": "markdown",
      "source": [
        "## 5 - Chain-of-Thought\n",
        "\n",
        "Uma cadeia de prompts interconectados pode estimular o raciocínio nos modelos de linguagem.\n",
        "\n",
        "FONTE: https://arxiv.org/pdf/2201.11903.pdf"
      ],
      "metadata": {
        "id": "8Ctt8l9S0iEb"
      }
    },
    {
      "cell_type": "code",
      "source": [
        "llm = ChatOpenAI(model_name=\"gpt-3.5-turbo\", temperature=0.1, max_tokens=1024)\n",
        "\n",
        "texto = 'Q: Roger tem 5 bolas de tênis. Ele compra mais 2 pacotes de bolas de tênis.\n",
        "'Cada pacote tem 2 bolas de tênis. Quantas bolas de tênis Roger tem agora?'\\\n",
        "        'A: Roger tinha 5 bolas de tênis. 2 pacotes com 3 bolas de tênis em cada\n",
        "    'um dá um total de 6 bolas de tênis. 5 + 6 = 11. A resposta é 11.'\\\n",
        "        '\\nQ: A cafeteria tinha 23 maçãs. Se eles usaram 20 delas para fazer uma\n",
        "        'torta e depois compraram mais 6 maçãs, quantas maçãs tem na cafeteria?'\n",
        "\n",
        "result = llm.predict(texto)\n",
        "print_smaller_lines(result, 120)"
      ],
      "metadata": {
        "colab": {
          "base_uri": "https://localhost:8080/"
        },
        "id": "Sif9yUPWzmas",
        "outputId": "1ab5e674-6efb-4801-b722-9f38e10d1bf6"
      },
      "execution_count": null,
      "outputs": [
        {
          "output_type": "stream",
          "name": "stdout",
          "text": [
            "A: A cafeteria tinha inicialmente 23 maçãs. Se eles usaram 20 delas para fazer uma torta, restaram 23 - 20 = 3 maçãs. De\n",
            "pois, eles compraram mais 6 maçãs, então agora a cafeteria tem 3 + 6 = 9 maçãs. A resposta é 9.\n"
          ]
        }
      ]
    },
    {
      "cell_type": "code",
      "source": [
        "llm = ChatOpenAI(model_name=\"gpt-3.5-turbo\", temperature=0.1, max_tokens=1024)\n",
        "\n",
        "texto = 'Q: Os números ímpares no grupo a seguir quando somados resultam em um\n",
        "'número par: 4, 8, 9, 15, 12, 2, 1.'\\\n",
        "        '\\nA: Somar todos os números ímpares (9, 15, 1) resulta em 25.\n",
        "        '25 é um número ímpar. Portanto a assertiva anterior é Falsa.'\\\n",
        "\n",
        "        '\\nQ: Os números ímpares no grupo a seguir quando somados resultam\n",
        "        'em um número par: 15, 32, 5, 13, 82, 7, 1.'\n",
        "\n",
        "result = llm.predict(texto)\n",
        "print_smaller_lines(result, 120)"
      ],
      "metadata": {
        "colab": {
          "base_uri": "https://localhost:8080/"
        },
        "id": "sYvfYUIT-DT6",
        "outputId": "7cba91fe-ccb3-4407-f396-56c9e62539a5"
      },
      "execution_count": null,
      "outputs": [
        {
          "output_type": "stream",
          "name": "stdout",
          "text": [
            "A: Somar todos os números ímpares (15, 5, 13, 7, 1) resulta em 41. 41 é um número ímpar. Portanto a assertiva anterior é\n",
            " Falsa.\n"
          ]
        }
      ]
    },
    {
      "cell_type": "markdown",
      "source": [
        "# Demo do Falcon\n",
        "[DEMO](https://huggingface.co/spaces/tiiuae/falcon-180b-demo)"
      ],
      "metadata": {
        "id": "05NUc9hsUzOo"
      }
    }
  ]
}