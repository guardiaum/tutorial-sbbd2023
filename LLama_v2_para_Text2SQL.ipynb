{
  "nbformat": 4,
  "nbformat_minor": 0,
  "metadata": {
    "colab": {
      "provenance": [],
      "gpuType": "T4",
      "collapsed_sections": [
        "E6CD8nrktswz",
        "-Lm3Vs7Zu5s9"
      ],
      "authorship_tag": "ABX9TyP8IbnUo+jkaXFYT0+POY6Q",
      "include_colab_link": true
    },
    "kernelspec": {
      "name": "python3",
      "display_name": "Python 3"
    },
    "language_info": {
      "name": "python"
    },
    "accelerator": "GPU",
    "widgets": {
      "application/vnd.jupyter.widget-state+json": {
        "0e8e1957738244ba9d53d5ae19adfa25": {
          "model_module": "@jupyter-widgets/controls",
          "model_name": "HBoxModel",
          "model_module_version": "1.5.0",
          "state": {
            "_dom_classes": [],
            "_model_module": "@jupyter-widgets/controls",
            "_model_module_version": "1.5.0",
            "_model_name": "HBoxModel",
            "_view_count": null,
            "_view_module": "@jupyter-widgets/controls",
            "_view_module_version": "1.5.0",
            "_view_name": "HBoxView",
            "box_style": "",
            "children": [
              "IPY_MODEL_616bca430b624019996c936a53855fcc",
              "IPY_MODEL_58e18b64bb434cc9ba1df9150d1fc9e6",
              "IPY_MODEL_ba3810d279b041a29607c24999d93b11"
            ],
            "layout": "IPY_MODEL_a4a9c5ef55394506bae3c99b0caa5688"
          }
        },
        "616bca430b624019996c936a53855fcc": {
          "model_module": "@jupyter-widgets/controls",
          "model_name": "HTMLModel",
          "model_module_version": "1.5.0",
          "state": {
            "_dom_classes": [],
            "_model_module": "@jupyter-widgets/controls",
            "_model_module_version": "1.5.0",
            "_model_name": "HTMLModel",
            "_view_count": null,
            "_view_module": "@jupyter-widgets/controls",
            "_view_module_version": "1.5.0",
            "_view_name": "HTMLView",
            "description": "",
            "description_tooltip": null,
            "layout": "IPY_MODEL_1bb21ce5e9e447e381d3ad9ea177dcd0",
            "placeholder": "​",
            "style": "IPY_MODEL_646159bdce6a4054ab197143395be1e1",
            "value": "Loading checkpoint shards: 100%"
          }
        },
        "58e18b64bb434cc9ba1df9150d1fc9e6": {
          "model_module": "@jupyter-widgets/controls",
          "model_name": "FloatProgressModel",
          "model_module_version": "1.5.0",
          "state": {
            "_dom_classes": [],
            "_model_module": "@jupyter-widgets/controls",
            "_model_module_version": "1.5.0",
            "_model_name": "FloatProgressModel",
            "_view_count": null,
            "_view_module": "@jupyter-widgets/controls",
            "_view_module_version": "1.5.0",
            "_view_name": "ProgressView",
            "bar_style": "success",
            "description": "",
            "description_tooltip": null,
            "layout": "IPY_MODEL_dbfcb3d181a34e598db25e78701c0491",
            "max": 14,
            "min": 0,
            "orientation": "horizontal",
            "style": "IPY_MODEL_66b228f0288943dfba8f095b63acf9f4",
            "value": 14
          }
        },
        "ba3810d279b041a29607c24999d93b11": {
          "model_module": "@jupyter-widgets/controls",
          "model_name": "HTMLModel",
          "model_module_version": "1.5.0",
          "state": {
            "_dom_classes": [],
            "_model_module": "@jupyter-widgets/controls",
            "_model_module_version": "1.5.0",
            "_model_name": "HTMLModel",
            "_view_count": null,
            "_view_module": "@jupyter-widgets/controls",
            "_view_module_version": "1.5.0",
            "_view_name": "HTMLView",
            "description": "",
            "description_tooltip": null,
            "layout": "IPY_MODEL_c2a34ee6595b44ec82f968d8a8afdc24",
            "placeholder": "​",
            "style": "IPY_MODEL_d4db5396073847aebe7416a35276560e",
            "value": " 14/14 [01:32&lt;00:00,  5.90s/it]"
          }
        },
        "a4a9c5ef55394506bae3c99b0caa5688": {
          "model_module": "@jupyter-widgets/base",
          "model_name": "LayoutModel",
          "model_module_version": "1.2.0",
          "state": {
            "_model_module": "@jupyter-widgets/base",
            "_model_module_version": "1.2.0",
            "_model_name": "LayoutModel",
            "_view_count": null,
            "_view_module": "@jupyter-widgets/base",
            "_view_module_version": "1.2.0",
            "_view_name": "LayoutView",
            "align_content": null,
            "align_items": null,
            "align_self": null,
            "border": null,
            "bottom": null,
            "display": null,
            "flex": null,
            "flex_flow": null,
            "grid_area": null,
            "grid_auto_columns": null,
            "grid_auto_flow": null,
            "grid_auto_rows": null,
            "grid_column": null,
            "grid_gap": null,
            "grid_row": null,
            "grid_template_areas": null,
            "grid_template_columns": null,
            "grid_template_rows": null,
            "height": null,
            "justify_content": null,
            "justify_items": null,
            "left": null,
            "margin": null,
            "max_height": null,
            "max_width": null,
            "min_height": null,
            "min_width": null,
            "object_fit": null,
            "object_position": null,
            "order": null,
            "overflow": null,
            "overflow_x": null,
            "overflow_y": null,
            "padding": null,
            "right": null,
            "top": null,
            "visibility": null,
            "width": null
          }
        },
        "1bb21ce5e9e447e381d3ad9ea177dcd0": {
          "model_module": "@jupyter-widgets/base",
          "model_name": "LayoutModel",
          "model_module_version": "1.2.0",
          "state": {
            "_model_module": "@jupyter-widgets/base",
            "_model_module_version": "1.2.0",
            "_model_name": "LayoutModel",
            "_view_count": null,
            "_view_module": "@jupyter-widgets/base",
            "_view_module_version": "1.2.0",
            "_view_name": "LayoutView",
            "align_content": null,
            "align_items": null,
            "align_self": null,
            "border": null,
            "bottom": null,
            "display": null,
            "flex": null,
            "flex_flow": null,
            "grid_area": null,
            "grid_auto_columns": null,
            "grid_auto_flow": null,
            "grid_auto_rows": null,
            "grid_column": null,
            "grid_gap": null,
            "grid_row": null,
            "grid_template_areas": null,
            "grid_template_columns": null,
            "grid_template_rows": null,
            "height": null,
            "justify_content": null,
            "justify_items": null,
            "left": null,
            "margin": null,
            "max_height": null,
            "max_width": null,
            "min_height": null,
            "min_width": null,
            "object_fit": null,
            "object_position": null,
            "order": null,
            "overflow": null,
            "overflow_x": null,
            "overflow_y": null,
            "padding": null,
            "right": null,
            "top": null,
            "visibility": null,
            "width": null
          }
        },
        "646159bdce6a4054ab197143395be1e1": {
          "model_module": "@jupyter-widgets/controls",
          "model_name": "DescriptionStyleModel",
          "model_module_version": "1.5.0",
          "state": {
            "_model_module": "@jupyter-widgets/controls",
            "_model_module_version": "1.5.0",
            "_model_name": "DescriptionStyleModel",
            "_view_count": null,
            "_view_module": "@jupyter-widgets/base",
            "_view_module_version": "1.2.0",
            "_view_name": "StyleView",
            "description_width": ""
          }
        },
        "dbfcb3d181a34e598db25e78701c0491": {
          "model_module": "@jupyter-widgets/base",
          "model_name": "LayoutModel",
          "model_module_version": "1.2.0",
          "state": {
            "_model_module": "@jupyter-widgets/base",
            "_model_module_version": "1.2.0",
            "_model_name": "LayoutModel",
            "_view_count": null,
            "_view_module": "@jupyter-widgets/base",
            "_view_module_version": "1.2.0",
            "_view_name": "LayoutView",
            "align_content": null,
            "align_items": null,
            "align_self": null,
            "border": null,
            "bottom": null,
            "display": null,
            "flex": null,
            "flex_flow": null,
            "grid_area": null,
            "grid_auto_columns": null,
            "grid_auto_flow": null,
            "grid_auto_rows": null,
            "grid_column": null,
            "grid_gap": null,
            "grid_row": null,
            "grid_template_areas": null,
            "grid_template_columns": null,
            "grid_template_rows": null,
            "height": null,
            "justify_content": null,
            "justify_items": null,
            "left": null,
            "margin": null,
            "max_height": null,
            "max_width": null,
            "min_height": null,
            "min_width": null,
            "object_fit": null,
            "object_position": null,
            "order": null,
            "overflow": null,
            "overflow_x": null,
            "overflow_y": null,
            "padding": null,
            "right": null,
            "top": null,
            "visibility": null,
            "width": null
          }
        },
        "66b228f0288943dfba8f095b63acf9f4": {
          "model_module": "@jupyter-widgets/controls",
          "model_name": "ProgressStyleModel",
          "model_module_version": "1.5.0",
          "state": {
            "_model_module": "@jupyter-widgets/controls",
            "_model_module_version": "1.5.0",
            "_model_name": "ProgressStyleModel",
            "_view_count": null,
            "_view_module": "@jupyter-widgets/base",
            "_view_module_version": "1.2.0",
            "_view_name": "StyleView",
            "bar_color": null,
            "description_width": ""
          }
        },
        "c2a34ee6595b44ec82f968d8a8afdc24": {
          "model_module": "@jupyter-widgets/base",
          "model_name": "LayoutModel",
          "model_module_version": "1.2.0",
          "state": {
            "_model_module": "@jupyter-widgets/base",
            "_model_module_version": "1.2.0",
            "_model_name": "LayoutModel",
            "_view_count": null,
            "_view_module": "@jupyter-widgets/base",
            "_view_module_version": "1.2.0",
            "_view_name": "LayoutView",
            "align_content": null,
            "align_items": null,
            "align_self": null,
            "border": null,
            "bottom": null,
            "display": null,
            "flex": null,
            "flex_flow": null,
            "grid_area": null,
            "grid_auto_columns": null,
            "grid_auto_flow": null,
            "grid_auto_rows": null,
            "grid_column": null,
            "grid_gap": null,
            "grid_row": null,
            "grid_template_areas": null,
            "grid_template_columns": null,
            "grid_template_rows": null,
            "height": null,
            "justify_content": null,
            "justify_items": null,
            "left": null,
            "margin": null,
            "max_height": null,
            "max_width": null,
            "min_height": null,
            "min_width": null,
            "object_fit": null,
            "object_position": null,
            "order": null,
            "overflow": null,
            "overflow_x": null,
            "overflow_y": null,
            "padding": null,
            "right": null,
            "top": null,
            "visibility": null,
            "width": null
          }
        },
        "d4db5396073847aebe7416a35276560e": {
          "model_module": "@jupyter-widgets/controls",
          "model_name": "DescriptionStyleModel",
          "model_module_version": "1.5.0",
          "state": {
            "_model_module": "@jupyter-widgets/controls",
            "_model_module_version": "1.5.0",
            "_model_name": "DescriptionStyleModel",
            "_view_count": null,
            "_view_module": "@jupyter-widgets/base",
            "_view_module_version": "1.2.0",
            "_view_name": "StyleView",
            "description_width": ""
          }
        },
        "5e8ac699f4054c0a9ad656ad7d5016c2": {
          "model_module": "@jupyter-widgets/controls",
          "model_name": "HBoxModel",
          "model_module_version": "1.5.0",
          "state": {
            "_dom_classes": [],
            "_model_module": "@jupyter-widgets/controls",
            "_model_module_version": "1.5.0",
            "_model_name": "HBoxModel",
            "_view_count": null,
            "_view_module": "@jupyter-widgets/controls",
            "_view_module_version": "1.5.0",
            "_view_name": "HBoxView",
            "box_style": "",
            "children": [
              "IPY_MODEL_e8b7a04e97804c9fa3156c340faf016b",
              "IPY_MODEL_6b56f12f79394ca98e8a866978fbf0f1",
              "IPY_MODEL_9763b8b3a73749e49d7d5db03bb0cd9e"
            ],
            "layout": "IPY_MODEL_d8a04ae5a917479a8697e0d6750fcc52"
          }
        },
        "e8b7a04e97804c9fa3156c340faf016b": {
          "model_module": "@jupyter-widgets/controls",
          "model_name": "HTMLModel",
          "model_module_version": "1.5.0",
          "state": {
            "_dom_classes": [],
            "_model_module": "@jupyter-widgets/controls",
            "_model_module_version": "1.5.0",
            "_model_name": "HTMLModel",
            "_view_count": null,
            "_view_module": "@jupyter-widgets/controls",
            "_view_module_version": "1.5.0",
            "_view_name": "HTMLView",
            "description": "",
            "description_tooltip": null,
            "layout": "IPY_MODEL_abf3c9900dc3482898a3bc6dc3854dce",
            "placeholder": "​",
            "style": "IPY_MODEL_b390fc9c758b47589118e57d3dbbb4b5",
            "value": "Map: 100%"
          }
        },
        "6b56f12f79394ca98e8a866978fbf0f1": {
          "model_module": "@jupyter-widgets/controls",
          "model_name": "FloatProgressModel",
          "model_module_version": "1.5.0",
          "state": {
            "_dom_classes": [],
            "_model_module": "@jupyter-widgets/controls",
            "_model_module_version": "1.5.0",
            "_model_name": "FloatProgressModel",
            "_view_count": null,
            "_view_module": "@jupyter-widgets/controls",
            "_view_module_version": "1.5.0",
            "_view_name": "ProgressView",
            "bar_style": "success",
            "description": "",
            "description_tooltip": null,
            "layout": "IPY_MODEL_9b31995b7cec4aef8ca6ba3113997685",
            "max": 7000,
            "min": 0,
            "orientation": "horizontal",
            "style": "IPY_MODEL_4117bf1b8de242728542161e1bed96fe",
            "value": 7000
          }
        },
        "9763b8b3a73749e49d7d5db03bb0cd9e": {
          "model_module": "@jupyter-widgets/controls",
          "model_name": "HTMLModel",
          "model_module_version": "1.5.0",
          "state": {
            "_dom_classes": [],
            "_model_module": "@jupyter-widgets/controls",
            "_model_module_version": "1.5.0",
            "_model_name": "HTMLModel",
            "_view_count": null,
            "_view_module": "@jupyter-widgets/controls",
            "_view_module_version": "1.5.0",
            "_view_name": "HTMLView",
            "description": "",
            "description_tooltip": null,
            "layout": "IPY_MODEL_fd09c165a8b14102b9b7115c61a85d2a",
            "placeholder": "​",
            "style": "IPY_MODEL_a226c584bf8a4c4586e7bee6d036d2b7",
            "value": " 7000/7000 [00:04&lt;00:00, 1574.86 examples/s]"
          }
        },
        "d8a04ae5a917479a8697e0d6750fcc52": {
          "model_module": "@jupyter-widgets/base",
          "model_name": "LayoutModel",
          "model_module_version": "1.2.0",
          "state": {
            "_model_module": "@jupyter-widgets/base",
            "_model_module_version": "1.2.0",
            "_model_name": "LayoutModel",
            "_view_count": null,
            "_view_module": "@jupyter-widgets/base",
            "_view_module_version": "1.2.0",
            "_view_name": "LayoutView",
            "align_content": null,
            "align_items": null,
            "align_self": null,
            "border": null,
            "bottom": null,
            "display": null,
            "flex": null,
            "flex_flow": null,
            "grid_area": null,
            "grid_auto_columns": null,
            "grid_auto_flow": null,
            "grid_auto_rows": null,
            "grid_column": null,
            "grid_gap": null,
            "grid_row": null,
            "grid_template_areas": null,
            "grid_template_columns": null,
            "grid_template_rows": null,
            "height": null,
            "justify_content": null,
            "justify_items": null,
            "left": null,
            "margin": null,
            "max_height": null,
            "max_width": null,
            "min_height": null,
            "min_width": null,
            "object_fit": null,
            "object_position": null,
            "order": null,
            "overflow": null,
            "overflow_x": null,
            "overflow_y": null,
            "padding": null,
            "right": null,
            "top": null,
            "visibility": null,
            "width": null
          }
        },
        "abf3c9900dc3482898a3bc6dc3854dce": {
          "model_module": "@jupyter-widgets/base",
          "model_name": "LayoutModel",
          "model_module_version": "1.2.0",
          "state": {
            "_model_module": "@jupyter-widgets/base",
            "_model_module_version": "1.2.0",
            "_model_name": "LayoutModel",
            "_view_count": null,
            "_view_module": "@jupyter-widgets/base",
            "_view_module_version": "1.2.0",
            "_view_name": "LayoutView",
            "align_content": null,
            "align_items": null,
            "align_self": null,
            "border": null,
            "bottom": null,
            "display": null,
            "flex": null,
            "flex_flow": null,
            "grid_area": null,
            "grid_auto_columns": null,
            "grid_auto_flow": null,
            "grid_auto_rows": null,
            "grid_column": null,
            "grid_gap": null,
            "grid_row": null,
            "grid_template_areas": null,
            "grid_template_columns": null,
            "grid_template_rows": null,
            "height": null,
            "justify_content": null,
            "justify_items": null,
            "left": null,
            "margin": null,
            "max_height": null,
            "max_width": null,
            "min_height": null,
            "min_width": null,
            "object_fit": null,
            "object_position": null,
            "order": null,
            "overflow": null,
            "overflow_x": null,
            "overflow_y": null,
            "padding": null,
            "right": null,
            "top": null,
            "visibility": null,
            "width": null
          }
        },
        "b390fc9c758b47589118e57d3dbbb4b5": {
          "model_module": "@jupyter-widgets/controls",
          "model_name": "DescriptionStyleModel",
          "model_module_version": "1.5.0",
          "state": {
            "_model_module": "@jupyter-widgets/controls",
            "_model_module_version": "1.5.0",
            "_model_name": "DescriptionStyleModel",
            "_view_count": null,
            "_view_module": "@jupyter-widgets/base",
            "_view_module_version": "1.2.0",
            "_view_name": "StyleView",
            "description_width": ""
          }
        },
        "9b31995b7cec4aef8ca6ba3113997685": {
          "model_module": "@jupyter-widgets/base",
          "model_name": "LayoutModel",
          "model_module_version": "1.2.0",
          "state": {
            "_model_module": "@jupyter-widgets/base",
            "_model_module_version": "1.2.0",
            "_model_name": "LayoutModel",
            "_view_count": null,
            "_view_module": "@jupyter-widgets/base",
            "_view_module_version": "1.2.0",
            "_view_name": "LayoutView",
            "align_content": null,
            "align_items": null,
            "align_self": null,
            "border": null,
            "bottom": null,
            "display": null,
            "flex": null,
            "flex_flow": null,
            "grid_area": null,
            "grid_auto_columns": null,
            "grid_auto_flow": null,
            "grid_auto_rows": null,
            "grid_column": null,
            "grid_gap": null,
            "grid_row": null,
            "grid_template_areas": null,
            "grid_template_columns": null,
            "grid_template_rows": null,
            "height": null,
            "justify_content": null,
            "justify_items": null,
            "left": null,
            "margin": null,
            "max_height": null,
            "max_width": null,
            "min_height": null,
            "min_width": null,
            "object_fit": null,
            "object_position": null,
            "order": null,
            "overflow": null,
            "overflow_x": null,
            "overflow_y": null,
            "padding": null,
            "right": null,
            "top": null,
            "visibility": null,
            "width": null
          }
        },
        "4117bf1b8de242728542161e1bed96fe": {
          "model_module": "@jupyter-widgets/controls",
          "model_name": "ProgressStyleModel",
          "model_module_version": "1.5.0",
          "state": {
            "_model_module": "@jupyter-widgets/controls",
            "_model_module_version": "1.5.0",
            "_model_name": "ProgressStyleModel",
            "_view_count": null,
            "_view_module": "@jupyter-widgets/base",
            "_view_module_version": "1.2.0",
            "_view_name": "StyleView",
            "bar_color": null,
            "description_width": ""
          }
        },
        "fd09c165a8b14102b9b7115c61a85d2a": {
          "model_module": "@jupyter-widgets/base",
          "model_name": "LayoutModel",
          "model_module_version": "1.2.0",
          "state": {
            "_model_module": "@jupyter-widgets/base",
            "_model_module_version": "1.2.0",
            "_model_name": "LayoutModel",
            "_view_count": null,
            "_view_module": "@jupyter-widgets/base",
            "_view_module_version": "1.2.0",
            "_view_name": "LayoutView",
            "align_content": null,
            "align_items": null,
            "align_self": null,
            "border": null,
            "bottom": null,
            "display": null,
            "flex": null,
            "flex_flow": null,
            "grid_area": null,
            "grid_auto_columns": null,
            "grid_auto_flow": null,
            "grid_auto_rows": null,
            "grid_column": null,
            "grid_gap": null,
            "grid_row": null,
            "grid_template_areas": null,
            "grid_template_columns": null,
            "grid_template_rows": null,
            "height": null,
            "justify_content": null,
            "justify_items": null,
            "left": null,
            "margin": null,
            "max_height": null,
            "max_width": null,
            "min_height": null,
            "min_width": null,
            "object_fit": null,
            "object_position": null,
            "order": null,
            "overflow": null,
            "overflow_x": null,
            "overflow_y": null,
            "padding": null,
            "right": null,
            "top": null,
            "visibility": null,
            "width": null
          }
        },
        "a226c584bf8a4c4586e7bee6d036d2b7": {
          "model_module": "@jupyter-widgets/controls",
          "model_name": "DescriptionStyleModel",
          "model_module_version": "1.5.0",
          "state": {
            "_model_module": "@jupyter-widgets/controls",
            "_model_module_version": "1.5.0",
            "_model_name": "DescriptionStyleModel",
            "_view_count": null,
            "_view_module": "@jupyter-widgets/base",
            "_view_module_version": "1.2.0",
            "_view_name": "StyleView",
            "description_width": ""
          }
        },
        "aa4f8fbddee840dd9ebc15a893e78363": {
          "model_module": "@jupyter-widgets/controls",
          "model_name": "HBoxModel",
          "model_module_version": "1.5.0",
          "state": {
            "_dom_classes": [],
            "_model_module": "@jupyter-widgets/controls",
            "_model_module_version": "1.5.0",
            "_model_name": "HBoxModel",
            "_view_count": null,
            "_view_module": "@jupyter-widgets/controls",
            "_view_module_version": "1.5.0",
            "_view_name": "HBoxView",
            "box_style": "",
            "children": [
              "IPY_MODEL_628b8a5c5104465c8933553469e1cd11",
              "IPY_MODEL_84161b31cdc340c4ba10ebcc8615f613",
              "IPY_MODEL_f8ff628111714cc78f599417b34d43a2"
            ],
            "layout": "IPY_MODEL_cd84e1ac8cf94341a04368d43f921278"
          }
        },
        "628b8a5c5104465c8933553469e1cd11": {
          "model_module": "@jupyter-widgets/controls",
          "model_name": "HTMLModel",
          "model_module_version": "1.5.0",
          "state": {
            "_dom_classes": [],
            "_model_module": "@jupyter-widgets/controls",
            "_model_module_version": "1.5.0",
            "_model_name": "HTMLModel",
            "_view_count": null,
            "_view_module": "@jupyter-widgets/controls",
            "_view_module_version": "1.5.0",
            "_view_name": "HTMLView",
            "description": "",
            "description_tooltip": null,
            "layout": "IPY_MODEL_d1613ec012974b3fac38a9cc7780a2fe",
            "placeholder": "​",
            "style": "IPY_MODEL_f18221659c054c01add08d0eafcf7d2e",
            "value": "Loading checkpoint shards: 100%"
          }
        },
        "84161b31cdc340c4ba10ebcc8615f613": {
          "model_module": "@jupyter-widgets/controls",
          "model_name": "FloatProgressModel",
          "model_module_version": "1.5.0",
          "state": {
            "_dom_classes": [],
            "_model_module": "@jupyter-widgets/controls",
            "_model_module_version": "1.5.0",
            "_model_name": "FloatProgressModel",
            "_view_count": null,
            "_view_module": "@jupyter-widgets/controls",
            "_view_module_version": "1.5.0",
            "_view_name": "ProgressView",
            "bar_style": "success",
            "description": "",
            "description_tooltip": null,
            "layout": "IPY_MODEL_82be4dfc4c534df2943c4f7a9b0cabb4",
            "max": 14,
            "min": 0,
            "orientation": "horizontal",
            "style": "IPY_MODEL_23d9cc3aa63c46b5b9e623e276a82133",
            "value": 14
          }
        },
        "f8ff628111714cc78f599417b34d43a2": {
          "model_module": "@jupyter-widgets/controls",
          "model_name": "HTMLModel",
          "model_module_version": "1.5.0",
          "state": {
            "_dom_classes": [],
            "_model_module": "@jupyter-widgets/controls",
            "_model_module_version": "1.5.0",
            "_model_name": "HTMLModel",
            "_view_count": null,
            "_view_module": "@jupyter-widgets/controls",
            "_view_module_version": "1.5.0",
            "_view_name": "HTMLView",
            "description": "",
            "description_tooltip": null,
            "layout": "IPY_MODEL_182e9ecfd3dc4ecf8427031831ac68ba",
            "placeholder": "​",
            "style": "IPY_MODEL_fac3a24c573e4b50a3bcb1a25fb32665",
            "value": " 14/14 [01:21&lt;00:00,  5.66s/it]"
          }
        },
        "cd84e1ac8cf94341a04368d43f921278": {
          "model_module": "@jupyter-widgets/base",
          "model_name": "LayoutModel",
          "model_module_version": "1.2.0",
          "state": {
            "_model_module": "@jupyter-widgets/base",
            "_model_module_version": "1.2.0",
            "_model_name": "LayoutModel",
            "_view_count": null,
            "_view_module": "@jupyter-widgets/base",
            "_view_module_version": "1.2.0",
            "_view_name": "LayoutView",
            "align_content": null,
            "align_items": null,
            "align_self": null,
            "border": null,
            "bottom": null,
            "display": null,
            "flex": null,
            "flex_flow": null,
            "grid_area": null,
            "grid_auto_columns": null,
            "grid_auto_flow": null,
            "grid_auto_rows": null,
            "grid_column": null,
            "grid_gap": null,
            "grid_row": null,
            "grid_template_areas": null,
            "grid_template_columns": null,
            "grid_template_rows": null,
            "height": null,
            "justify_content": null,
            "justify_items": null,
            "left": null,
            "margin": null,
            "max_height": null,
            "max_width": null,
            "min_height": null,
            "min_width": null,
            "object_fit": null,
            "object_position": null,
            "order": null,
            "overflow": null,
            "overflow_x": null,
            "overflow_y": null,
            "padding": null,
            "right": null,
            "top": null,
            "visibility": null,
            "width": null
          }
        },
        "d1613ec012974b3fac38a9cc7780a2fe": {
          "model_module": "@jupyter-widgets/base",
          "model_name": "LayoutModel",
          "model_module_version": "1.2.0",
          "state": {
            "_model_module": "@jupyter-widgets/base",
            "_model_module_version": "1.2.0",
            "_model_name": "LayoutModel",
            "_view_count": null,
            "_view_module": "@jupyter-widgets/base",
            "_view_module_version": "1.2.0",
            "_view_name": "LayoutView",
            "align_content": null,
            "align_items": null,
            "align_self": null,
            "border": null,
            "bottom": null,
            "display": null,
            "flex": null,
            "flex_flow": null,
            "grid_area": null,
            "grid_auto_columns": null,
            "grid_auto_flow": null,
            "grid_auto_rows": null,
            "grid_column": null,
            "grid_gap": null,
            "grid_row": null,
            "grid_template_areas": null,
            "grid_template_columns": null,
            "grid_template_rows": null,
            "height": null,
            "justify_content": null,
            "justify_items": null,
            "left": null,
            "margin": null,
            "max_height": null,
            "max_width": null,
            "min_height": null,
            "min_width": null,
            "object_fit": null,
            "object_position": null,
            "order": null,
            "overflow": null,
            "overflow_x": null,
            "overflow_y": null,
            "padding": null,
            "right": null,
            "top": null,
            "visibility": null,
            "width": null
          }
        },
        "f18221659c054c01add08d0eafcf7d2e": {
          "model_module": "@jupyter-widgets/controls",
          "model_name": "DescriptionStyleModel",
          "model_module_version": "1.5.0",
          "state": {
            "_model_module": "@jupyter-widgets/controls",
            "_model_module_version": "1.5.0",
            "_model_name": "DescriptionStyleModel",
            "_view_count": null,
            "_view_module": "@jupyter-widgets/base",
            "_view_module_version": "1.2.0",
            "_view_name": "StyleView",
            "description_width": ""
          }
        },
        "82be4dfc4c534df2943c4f7a9b0cabb4": {
          "model_module": "@jupyter-widgets/base",
          "model_name": "LayoutModel",
          "model_module_version": "1.2.0",
          "state": {
            "_model_module": "@jupyter-widgets/base",
            "_model_module_version": "1.2.0",
            "_model_name": "LayoutModel",
            "_view_count": null,
            "_view_module": "@jupyter-widgets/base",
            "_view_module_version": "1.2.0",
            "_view_name": "LayoutView",
            "align_content": null,
            "align_items": null,
            "align_self": null,
            "border": null,
            "bottom": null,
            "display": null,
            "flex": null,
            "flex_flow": null,
            "grid_area": null,
            "grid_auto_columns": null,
            "grid_auto_flow": null,
            "grid_auto_rows": null,
            "grid_column": null,
            "grid_gap": null,
            "grid_row": null,
            "grid_template_areas": null,
            "grid_template_columns": null,
            "grid_template_rows": null,
            "height": null,
            "justify_content": null,
            "justify_items": null,
            "left": null,
            "margin": null,
            "max_height": null,
            "max_width": null,
            "min_height": null,
            "min_width": null,
            "object_fit": null,
            "object_position": null,
            "order": null,
            "overflow": null,
            "overflow_x": null,
            "overflow_y": null,
            "padding": null,
            "right": null,
            "top": null,
            "visibility": null,
            "width": null
          }
        },
        "23d9cc3aa63c46b5b9e623e276a82133": {
          "model_module": "@jupyter-widgets/controls",
          "model_name": "ProgressStyleModel",
          "model_module_version": "1.5.0",
          "state": {
            "_model_module": "@jupyter-widgets/controls",
            "_model_module_version": "1.5.0",
            "_model_name": "ProgressStyleModel",
            "_view_count": null,
            "_view_module": "@jupyter-widgets/base",
            "_view_module_version": "1.2.0",
            "_view_name": "StyleView",
            "bar_color": null,
            "description_width": ""
          }
        },
        "182e9ecfd3dc4ecf8427031831ac68ba": {
          "model_module": "@jupyter-widgets/base",
          "model_name": "LayoutModel",
          "model_module_version": "1.2.0",
          "state": {
            "_model_module": "@jupyter-widgets/base",
            "_model_module_version": "1.2.0",
            "_model_name": "LayoutModel",
            "_view_count": null,
            "_view_module": "@jupyter-widgets/base",
            "_view_module_version": "1.2.0",
            "_view_name": "LayoutView",
            "align_content": null,
            "align_items": null,
            "align_self": null,
            "border": null,
            "bottom": null,
            "display": null,
            "flex": null,
            "flex_flow": null,
            "grid_area": null,
            "grid_auto_columns": null,
            "grid_auto_flow": null,
            "grid_auto_rows": null,
            "grid_column": null,
            "grid_gap": null,
            "grid_row": null,
            "grid_template_areas": null,
            "grid_template_columns": null,
            "grid_template_rows": null,
            "height": null,
            "justify_content": null,
            "justify_items": null,
            "left": null,
            "margin": null,
            "max_height": null,
            "max_width": null,
            "min_height": null,
            "min_width": null,
            "object_fit": null,
            "object_position": null,
            "order": null,
            "overflow": null,
            "overflow_x": null,
            "overflow_y": null,
            "padding": null,
            "right": null,
            "top": null,
            "visibility": null,
            "width": null
          }
        },
        "fac3a24c573e4b50a3bcb1a25fb32665": {
          "model_module": "@jupyter-widgets/controls",
          "model_name": "DescriptionStyleModel",
          "model_module_version": "1.5.0",
          "state": {
            "_model_module": "@jupyter-widgets/controls",
            "_model_module_version": "1.5.0",
            "_model_name": "DescriptionStyleModel",
            "_view_count": null,
            "_view_module": "@jupyter-widgets/base",
            "_view_module_version": "1.2.0",
            "_view_name": "StyleView",
            "description_width": ""
          }
        }
      }
    }
  },
  "cells": [
    {
      "cell_type": "markdown",
      "metadata": {
        "id": "view-in-github",
        "colab_type": "text"
      },
      "source": [
        "<a href=\"https://colab.research.google.com/github/guardiaum/tutorial-sbbd2023/blob/main/LLama_v2_para_Text2SQL.ipynb\" target=\"_parent\"><img src=\"https://colab.research.google.com/assets/colab-badge.svg\" alt=\"Open In Colab\"/></a>"
      ]
    },
    {
      "cell_type": "markdown",
      "source": [
        "# **Tutorial Prompting and Fine-Tuning Pre-trained Generative Language Models**\n",
        "*Johny Moreira, Altigran da Silva, Luciano Barbosa*\n",
        "\n",
        "SIMPÓSIO BRASILEIRO DE BANCO DE DADOS - 2023\n"
      ],
      "metadata": {
        "id": "oOtYvDFS_AVg"
      }
    },
    {
      "cell_type": "markdown",
      "source": [
        "\n",
        "# Text2SQL\n",
        "\n",
        "**SPIDER**:\n",
        "É um dataset com anotações de mapeamentos complexos entre Texto em Linguagem Natural e SQL, além de parsing semântico entre domínios.\n",
        "\n",
        "![Screenshot from 2023-09-24 17-00-35.png](data:image/png;base64,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)\n",
        "\n",
        "\n",
        "Spider: A Large-Scale Human-Labeled Dataset for Complex and\n",
        "Cross-Domain Semantic Parsing and Text-to-SQL Task (https://arxiv.org/pdf/1809.08887.pdf)\n",
        "\n",
        "Github Repo: https://github.com/taoyds/spider"
      ],
      "metadata": {
        "id": "Zp6FxorvI-JJ"
      }
    },
    {
      "cell_type": "markdown",
      "source": [
        "# Configurações básicas do ambiente"
      ],
      "metadata": {
        "id": "RAT994hV1qHr"
      }
    },
    {
      "cell_type": "code",
      "source": [
        "! pip install transformers==4.31.0\n",
        "\n",
        "# trl: facilitar o fine-tuning\n",
        "# accelerate: treino distribuído, mixed precision, consumer hardware\n",
        "# peft: métodos para treino eficiente (sem necessidade de tunar todos os parâmetros do modelo)\n",
        "! pip install -q -U trl accelerate git+https://github.com/huggingface/peft.git\n",
        "\n",
        "# bitandbytes: quantização, otimizadores mix precision, multiplicação de matrizes etc\n",
        "! pip install -q datasets bitsandbytes"
      ],
      "metadata": {
        "colab": {
          "base_uri": "https://localhost:8080/"
        },
        "id": "aMMGaaolI37O",
        "outputId": "79196f26-0df2-41af-ea94-9f42a9cddfc9"
      },
      "execution_count": null,
      "outputs": [
        {
          "output_type": "stream",
          "name": "stdout",
          "text": [
            "Requirement already satisfied: transformers==4.31.0 in /usr/local/lib/python3.10/dist-packages (4.31.0)\n",
            "Requirement already satisfied: filelock in /usr/local/lib/python3.10/dist-packages (from transformers==4.31.0) (3.12.2)\n",
            "Requirement already satisfied: huggingface-hub<1.0,>=0.14.1 in /usr/local/lib/python3.10/dist-packages (from transformers==4.31.0) (0.17.2)\n",
            "Requirement already satisfied: numpy>=1.17 in /usr/local/lib/python3.10/dist-packages (from transformers==4.31.0) (1.23.5)\n",
            "Requirement already satisfied: packaging>=20.0 in /usr/local/lib/python3.10/dist-packages (from transformers==4.31.0) (23.1)\n",
            "Requirement already satisfied: pyyaml>=5.1 in /usr/local/lib/python3.10/dist-packages (from transformers==4.31.0) (6.0.1)\n",
            "Requirement already satisfied: regex!=2019.12.17 in /usr/local/lib/python3.10/dist-packages (from transformers==4.31.0) (2023.6.3)\n",
            "Requirement already satisfied: requests in /usr/local/lib/python3.10/dist-packages (from transformers==4.31.0) (2.31.0)\n",
            "Requirement already satisfied: tokenizers!=0.11.3,<0.14,>=0.11.1 in /usr/local/lib/python3.10/dist-packages (from transformers==4.31.0) (0.13.3)\n",
            "Requirement already satisfied: safetensors>=0.3.1 in /usr/local/lib/python3.10/dist-packages (from transformers==4.31.0) (0.3.3)\n",
            "Requirement already satisfied: tqdm>=4.27 in /usr/local/lib/python3.10/dist-packages (from transformers==4.31.0) (4.66.1)\n",
            "Requirement already satisfied: fsspec in /usr/local/lib/python3.10/dist-packages (from huggingface-hub<1.0,>=0.14.1->transformers==4.31.0) (2023.6.0)\n",
            "Requirement already satisfied: typing-extensions>=3.7.4.3 in /usr/local/lib/python3.10/dist-packages (from huggingface-hub<1.0,>=0.14.1->transformers==4.31.0) (4.5.0)\n",
            "Requirement already satisfied: charset-normalizer<4,>=2 in /usr/local/lib/python3.10/dist-packages (from requests->transformers==4.31.0) (3.2.0)\n",
            "Requirement already satisfied: idna<4,>=2.5 in /usr/local/lib/python3.10/dist-packages (from requests->transformers==4.31.0) (3.4)\n",
            "Requirement already satisfied: urllib3<3,>=1.21.1 in /usr/local/lib/python3.10/dist-packages (from requests->transformers==4.31.0) (2.0.4)\n",
            "Requirement already satisfied: certifi>=2017.4.17 in /usr/local/lib/python3.10/dist-packages (from requests->transformers==4.31.0) (2023.7.22)\n",
            "  Installing build dependencies ... \u001b[?25l\u001b[?25hdone\n",
            "  Getting requirements to build wheel ... \u001b[?25l\u001b[?25hdone\n",
            "  Preparing metadata (pyproject.toml) ... \u001b[?25l\u001b[?25hdone\n",
            "Requirement already satisfied: langchain in /usr/local/lib/python3.10/dist-packages (0.0.300)\n",
            "Requirement already satisfied: PyYAML>=5.3 in /usr/local/lib/python3.10/dist-packages (from langchain) (6.0.1)\n",
            "Requirement already satisfied: SQLAlchemy<3,>=1.4 in /usr/local/lib/python3.10/dist-packages (from langchain) (2.0.20)\n",
            "Requirement already satisfied: aiohttp<4.0.0,>=3.8.3 in /usr/local/lib/python3.10/dist-packages (from langchain) (3.8.5)\n",
            "Requirement already satisfied: anyio<4.0 in /usr/local/lib/python3.10/dist-packages (from langchain) (3.7.1)\n",
            "Requirement already satisfied: async-timeout<5.0.0,>=4.0.0 in /usr/local/lib/python3.10/dist-packages (from langchain) (4.0.3)\n",
            "Requirement already satisfied: dataclasses-json<0.7,>=0.5.7 in /usr/local/lib/python3.10/dist-packages (from langchain) (0.6.0)\n",
            "Requirement already satisfied: jsonpatch<2.0,>=1.33 in /usr/local/lib/python3.10/dist-packages (from langchain) (1.33)\n",
            "Requirement already satisfied: langsmith<0.1.0,>=0.0.38 in /usr/local/lib/python3.10/dist-packages (from langchain) (0.0.40)\n",
            "Requirement already satisfied: numexpr<3.0.0,>=2.8.4 in /usr/local/lib/python3.10/dist-packages (from langchain) (2.8.5)\n",
            "Requirement already satisfied: numpy<2,>=1 in /usr/local/lib/python3.10/dist-packages (from langchain) (1.23.5)\n",
            "Requirement already satisfied: pydantic<3,>=1 in /usr/local/lib/python3.10/dist-packages (from langchain) (1.10.12)\n",
            "Requirement already satisfied: requests<3,>=2 in /usr/local/lib/python3.10/dist-packages (from langchain) (2.31.0)\n",
            "Requirement already satisfied: tenacity<9.0.0,>=8.1.0 in /usr/local/lib/python3.10/dist-packages (from langchain) (8.2.3)\n",
            "Requirement already satisfied: attrs>=17.3.0 in /usr/local/lib/python3.10/dist-packages (from aiohttp<4.0.0,>=3.8.3->langchain) (23.1.0)\n",
            "Requirement already satisfied: charset-normalizer<4.0,>=2.0 in /usr/local/lib/python3.10/dist-packages (from aiohttp<4.0.0,>=3.8.3->langchain) (3.2.0)\n",
            "Requirement already satisfied: multidict<7.0,>=4.5 in /usr/local/lib/python3.10/dist-packages (from aiohttp<4.0.0,>=3.8.3->langchain) (6.0.4)\n",
            "Requirement already satisfied: yarl<2.0,>=1.0 in /usr/local/lib/python3.10/dist-packages (from aiohttp<4.0.0,>=3.8.3->langchain) (1.9.2)\n",
            "Requirement already satisfied: frozenlist>=1.1.1 in /usr/local/lib/python3.10/dist-packages (from aiohttp<4.0.0,>=3.8.3->langchain) (1.4.0)\n",
            "Requirement already satisfied: aiosignal>=1.1.2 in /usr/local/lib/python3.10/dist-packages (from aiohttp<4.0.0,>=3.8.3->langchain) (1.3.1)\n",
            "Requirement already satisfied: idna>=2.8 in /usr/local/lib/python3.10/dist-packages (from anyio<4.0->langchain) (3.4)\n",
            "Requirement already satisfied: sniffio>=1.1 in /usr/local/lib/python3.10/dist-packages (from anyio<4.0->langchain) (1.3.0)\n",
            "Requirement already satisfied: exceptiongroup in /usr/local/lib/python3.10/dist-packages (from anyio<4.0->langchain) (1.1.3)\n",
            "Requirement already satisfied: marshmallow<4.0.0,>=3.18.0 in /usr/local/lib/python3.10/dist-packages (from dataclasses-json<0.7,>=0.5.7->langchain) (3.20.1)\n",
            "Requirement already satisfied: typing-inspect<1,>=0.4.0 in /usr/local/lib/python3.10/dist-packages (from dataclasses-json<0.7,>=0.5.7->langchain) (0.9.0)\n",
            "Requirement already satisfied: jsonpointer>=1.9 in /usr/local/lib/python3.10/dist-packages (from jsonpatch<2.0,>=1.33->langchain) (2.4)\n",
            "Requirement already satisfied: typing-extensions>=4.2.0 in /usr/local/lib/python3.10/dist-packages (from pydantic<3,>=1->langchain) (4.5.0)\n",
            "Requirement already satisfied: urllib3<3,>=1.21.1 in /usr/local/lib/python3.10/dist-packages (from requests<3,>=2->langchain) (2.0.4)\n",
            "Requirement already satisfied: certifi>=2017.4.17 in /usr/local/lib/python3.10/dist-packages (from requests<3,>=2->langchain) (2023.7.22)\n",
            "Requirement already satisfied: greenlet!=0.4.17 in /usr/local/lib/python3.10/dist-packages (from SQLAlchemy<3,>=1.4->langchain) (2.0.2)\n",
            "Requirement already satisfied: packaging>=17.0 in /usr/local/lib/python3.10/dist-packages (from marshmallow<4.0.0,>=3.18.0->dataclasses-json<0.7,>=0.5.7->langchain) (23.1)\n",
            "Requirement already satisfied: mypy-extensions>=0.3.0 in /usr/local/lib/python3.10/dist-packages (from typing-inspect<1,>=0.4.0->dataclasses-json<0.7,>=0.5.7->langchain) (1.0.0)\n"
          ]
        }
      ]
    },
    {
      "cell_type": "code",
      "execution_count": null,
      "metadata": {
        "colab": {
          "base_uri": "https://localhost:8080/"
        },
        "id": "XiwuCtaVA3oQ",
        "outputId": "2f12efea-6296-49a6-a49f-7ee780b95693"
      },
      "outputs": [
        {
          "output_type": "stream",
          "name": "stdout",
          "text": [
            "Drive already mounted at /content/drive; to attempt to forcibly remount, call drive.mount(\"/content/drive\", force_remount=True).\n"
          ]
        }
      ],
      "source": [
        "from google.colab import drive\n",
        "drive.mount('/content/drive')"
      ]
    },
    {
      "cell_type": "markdown",
      "source": [
        "# Carregando Bibliotecas"
      ],
      "metadata": {
        "id": "OhhQNtXx2NLS"
      }
    },
    {
      "cell_type": "code",
      "source": [
        "project_path = \"/content/drive/MyDrive/Tutorial SBBD/Colab/\"\n",
        "dados_dir = project_path + \"Dados/\""
      ],
      "metadata": {
        "id": "arSpGWBeI2O3"
      },
      "execution_count": null,
      "outputs": []
    },
    {
      "cell_type": "code",
      "source": [
        "import sys\n",
        "sys.path.append(project_path)"
      ],
      "metadata": {
        "id": "auVekU7rKoNY"
      },
      "execution_count": null,
      "outputs": []
    },
    {
      "cell_type": "code",
      "source": [
        "from SpiderSchema import *\n",
        "\n",
        "import pandas as pd\n",
        "from datasets import load_dataset\n",
        "\n",
        "import torch\n",
        "from transformers import AutoModelForCausalLM, AutoTokenizer, BitsAndBytesConfig, AutoTokenizer\n",
        "from transformers import TrainingArguments\n",
        "from trl import SFTTrainer\n",
        "from peft import LoraConfig, get_peft_model"
      ],
      "metadata": {
        "id": "vtiykjZ5Kqk3"
      },
      "execution_count": null,
      "outputs": []
    },
    {
      "cell_type": "markdown",
      "source": [
        "# Funções de pré-processamento"
      ],
      "metadata": {
        "id": "BwHckUQ43MCT"
      }
    },
    {
      "cell_type": "code",
      "source": [
        "def generate_prompt(examples, spider_schemas, use_fields=False):\n",
        "    \"\"\"\n",
        "    Generates the prompt for the given example as follows:\n",
        "    ### SCHEMA:\\n<DATABASE STRUCTURE>\\n\\n### QUESTION:\\n<NATURAL LANGUAGE QUESTION>\\n\\n### SQL QUERY:\\n<query>; [end-gen]\n",
        "\n",
        "    examples: The example to generate the prompt for.\n",
        "    spider_schemas: The spider schemas object.\n",
        "    use_fields: Whether to use the database fields in the prompt.\n",
        "    \"\"\"\n",
        "    prompt = ''\n",
        "\n",
        "    if use_fields:\n",
        "      fields = \"### SCHEMA:\\n\" + spider_schemas.get_db_schema(examples['db_id'])\n",
        "      fields.strip()\n",
        "      prompt += fields\n",
        "\n",
        "    question = \"\\n\\n### QUESTION:\\n\" + examples['question']\n",
        "    question.strip()\n",
        "    prompt += question\n",
        "\n",
        "    query = \"\\n\\n### SQL QUERY:\\n\" + examples['query']\n",
        "    query.strip()\n",
        "\n",
        "    if not query.endswith(';'):\n",
        "        query = query + ' ; [END-GEN]'\n",
        "    #query = query + SQL_SPECIAL_TOKENS['endoftext'] + '</s>'\n",
        "\n",
        "    prompt += query\n",
        "\n",
        "    return prompt.lower()\n",
        "\n",
        "def preprocess_function(examples, spider_schema, use_fields=False):\n",
        "    prompts = generate_prompt(examples, spider_schema, use_fields)\n",
        "    return {'input_text': prompts}"
      ],
      "metadata": {
        "id": "133IW36ILFAM"
      },
      "execution_count": null,
      "outputs": []
    },
    {
      "cell_type": "code",
      "source": [
        "def get_dataset(table_json: str, dataset_name: str='spider', use_fields: bool = False):\n",
        "\n",
        "    dataset = load_dataset(dataset_name)\n",
        "    spider_schema = SpiderSchema(table_json)\n",
        "    dataset = dataset.map(\n",
        "        lambda examples: preprocess_function(examples, spider_schema, use_fields),\n",
        "        remove_columns=dataset[\"train\"].column_names,\n",
        "    )\n",
        "    return dataset"
      ],
      "metadata": {
        "id": "JGtTNZx8KwA6"
      },
      "execution_count": null,
      "outputs": []
    },
    {
      "cell_type": "markdown",
      "source": [
        "# Carregando o Dataset"
      ],
      "metadata": {
        "id": "XYL9sLJn2Vj_"
      }
    },
    {
      "cell_type": "code",
      "source": [
        "dataset_id = 'spider'\n",
        "spider_schema = dados_dir + 'tables.json'"
      ],
      "metadata": {
        "id": "EvWMw-njLN0s"
      },
      "execution_count": null,
      "outputs": []
    },
    {
      "cell_type": "code",
      "source": [
        "dataset = load_dataset(dataset_id)"
      ],
      "metadata": {
        "id": "B7-jpcWCLWo5"
      },
      "execution_count": null,
      "outputs": []
    },
    {
      "cell_type": "code",
      "source": [
        "dataset"
      ],
      "metadata": {
        "colab": {
          "base_uri": "https://localhost:8080/"
        },
        "id": "QyNTgwA_LqJX",
        "outputId": "9cd10537-13d3-49fb-bd8b-08a7afd7d77a"
      },
      "execution_count": null,
      "outputs": [
        {
          "output_type": "execute_result",
          "data": {
            "text/plain": [
              "DatasetDict({\n",
              "    train: Dataset({\n",
              "        features: ['db_id', 'query', 'question', 'query_toks', 'query_toks_no_value', 'question_toks'],\n",
              "        num_rows: 7000\n",
              "    })\n",
              "    validation: Dataset({\n",
              "        features: ['db_id', 'query', 'question', 'query_toks', 'query_toks_no_value', 'question_toks'],\n",
              "        num_rows: 1034\n",
              "    })\n",
              "})"
            ]
          },
          "metadata": {},
          "execution_count": 10
        }
      ]
    },
    {
      "cell_type": "code",
      "source": [
        "dataset['train'].select([0])['db_id']"
      ],
      "metadata": {
        "colab": {
          "base_uri": "https://localhost:8080/"
        },
        "id": "Sna3oVl3NctX",
        "outputId": "e89b6d7c-f8ab-4ea6-db7e-a764fa8b93c6"
      },
      "execution_count": null,
      "outputs": [
        {
          "output_type": "execute_result",
          "data": {
            "text/plain": [
              "['department_management']"
            ]
          },
          "metadata": {},
          "execution_count": 11
        }
      ]
    },
    {
      "cell_type": "code",
      "source": [
        "sschema = SpiderSchema(spider_schema)"
      ],
      "metadata": {
        "id": "MwDnJxOIM5bI"
      },
      "execution_count": null,
      "outputs": []
    },
    {
      "cell_type": "code",
      "source": [
        "print(sschema.get_db_schema(dataset['train'].select([0])['db_id'][0]))"
      ],
      "metadata": {
        "colab": {
          "base_uri": "https://localhost:8080/"
        },
        "id": "q_6SDcLhM-2H",
        "outputId": "7589d934-9afd-49ac-93d8-757774d34eda"
      },
      "execution_count": null,
      "outputs": [
        {
          "output_type": "stream",
          "name": "stdout",
          "text": [
            "Table department, columns = [*,Department_ID,Name,Creation,Ranking,Budget_in_Billions,Num_Employees]\n",
            "Table head, columns = [*,head_ID,name,born_state,age]\n",
            "Table management, columns = [*,department_ID,head_ID,temporary_acting]\n",
            "Foreign_keys = [department.Department_ID,head.head_ID,management.department_ID]\n",
            "Primary_keys = [management.head_ID = head.head_ID,management.department_ID = department.Department_ID]\n"
          ]
        }
      ]
    },
    {
      "cell_type": "code",
      "source": [
        "print(dataset['train'].select([0])['query'])"
      ],
      "metadata": {
        "colab": {
          "base_uri": "https://localhost:8080/"
        },
        "id": "c-ui48rSMBep",
        "outputId": "0a8b26a4-f058-4b4f-a85c-2fedf94655fe"
      },
      "execution_count": null,
      "outputs": [
        {
          "output_type": "stream",
          "name": "stdout",
          "text": [
            "['SELECT count(*) FROM head WHERE age  >  56']\n"
          ]
        }
      ]
    },
    {
      "cell_type": "code",
      "source": [
        "dataset = get_dataset(spider_schema, dataset_id, use_fields=True)"
      ],
      "metadata": {
        "id": "1ZZtrviIPbuA"
      },
      "execution_count": null,
      "outputs": []
    },
    {
      "cell_type": "code",
      "source": [
        "dataset"
      ],
      "metadata": {
        "colab": {
          "base_uri": "https://localhost:8080/"
        },
        "id": "0DGa4Lo8weT-",
        "outputId": "a90f0c1b-aef6-4e81-80dd-868462a7d307"
      },
      "execution_count": null,
      "outputs": [
        {
          "output_type": "execute_result",
          "data": {
            "text/plain": [
              "DatasetDict({\n",
              "    train: Dataset({\n",
              "        features: ['input_text'],\n",
              "        num_rows: 7000\n",
              "    })\n",
              "    validation: Dataset({\n",
              "        features: ['input_text'],\n",
              "        num_rows: 1034\n",
              "    })\n",
              "})"
            ]
          },
          "metadata": {},
          "execution_count": 16
        }
      ]
    },
    {
      "cell_type": "markdown",
      "source": [
        "# Formato de Entrada para Fine-Tuning do modelo"
      ],
      "metadata": {
        "id": "lMB9wjGhJIcv"
      }
    },
    {
      "cell_type": "code",
      "source": [
        "print(dataset['train'][0]['input_text'])"
      ],
      "metadata": {
        "colab": {
          "base_uri": "https://localhost:8080/"
        },
        "id": "KjW1xZW7P0Vi",
        "outputId": "5005725a-a170-413b-8497-ad67508507d3"
      },
      "execution_count": null,
      "outputs": [
        {
          "output_type": "stream",
          "name": "stdout",
          "text": [
            "### schema:\n",
            "table department, columns = [*,department_id,name,creation,ranking,budget_in_billions,num_employees]\n",
            "table head, columns = [*,head_id,name,born_state,age]\n",
            "table management, columns = [*,department_id,head_id,temporary_acting]\n",
            "foreign_keys = [department.department_id,head.head_id,management.department_id]\n",
            "primary_keys = [management.head_id = head.head_id,management.department_id = department.department_id]\n",
            "\n",
            "### question:\n",
            "how many heads of the departments are older than 56 ?\n",
            "\n",
            "### sql query:\n",
            "select count(*) from head where age  >  56 ; [end-gen]\n"
          ]
        }
      ]
    },
    {
      "cell_type": "markdown",
      "source": [
        "# Load the Model"
      ],
      "metadata": {
        "id": "E6CD8nrktswz"
      }
    },
    {
      "cell_type": "code",
      "source": [
        "model_name = \"TinyPixel/Llama-2-7B-bf16-sharded\"   #\"meta-llama/Llama-2-7b-hf\""
      ],
      "metadata": {
        "id": "a_xaiMuQ2gGK"
      },
      "execution_count": null,
      "outputs": []
    },
    {
      "cell_type": "code",
      "source": [
        "# BitsAndBytes é um framework com funções customizadas para\n",
        "# otimização com precisão 8-bit, multiplicações de matrizes e\n",
        "# funções de quantização\n",
        "bnb_config = BitsAndBytesConfig(\n",
        "    load_in_4bit=True,   # Utiliza precisão de 4 bits para comprimir o modelo\n",
        "    bnb_4bit_quant_type=\"nf4\",\n",
        "    bnb_4bit_compute_dtype=torch.float16,   # os gradientes dos pesos são computados em 16-bit\n",
        ")\n",
        "\n",
        "model = AutoModelForCausalLM.from_pretrained(\n",
        "    \"TinyPixel/Llama-2-7B-bf16-sharded\",\n",
        "    quantization_config=bnb_config,\n",
        "    trust_remote_code=True\n",
        ")\n",
        "model.config.use_cache = False"
      ],
      "metadata": {
        "colab": {
          "base_uri": "https://localhost:8080/",
          "height": 49,
          "referenced_widgets": [
            "0e8e1957738244ba9d53d5ae19adfa25",
            "616bca430b624019996c936a53855fcc",
            "58e18b64bb434cc9ba1df9150d1fc9e6",
            "ba3810d279b041a29607c24999d93b11",
            "a4a9c5ef55394506bae3c99b0caa5688",
            "1bb21ce5e9e447e381d3ad9ea177dcd0",
            "646159bdce6a4054ab197143395be1e1",
            "dbfcb3d181a34e598db25e78701c0491",
            "66b228f0288943dfba8f095b63acf9f4",
            "c2a34ee6595b44ec82f968d8a8afdc24",
            "d4db5396073847aebe7416a35276560e"
          ]
        },
        "id": "5hlKWyPRRa1T",
        "outputId": "8b0c96ad-60ba-4a91-e0e9-82990f187ffa"
      },
      "execution_count": null,
      "outputs": [
        {
          "output_type": "display_data",
          "data": {
            "text/plain": [
              "Loading checkpoint shards:   0%|          | 0/14 [00:00<?, ?it/s]"
            ],
            "application/vnd.jupyter.widget-view+json": {
              "version_major": 2,
              "version_minor": 0,
              "model_id": "0e8e1957738244ba9d53d5ae19adfa25"
            }
          },
          "metadata": {}
        }
      ]
    },
    {
      "cell_type": "code",
      "source": [
        "print(model)"
      ],
      "metadata": {
        "colab": {
          "base_uri": "https://localhost:8080/"
        },
        "id": "g_h93PE38pmK",
        "outputId": "cb7a624f-9151-4130-9458-62e3cc87c6c7"
      },
      "execution_count": null,
      "outputs": [
        {
          "output_type": "stream",
          "name": "stdout",
          "text": [
            "LlamaForCausalLM(\n",
            "  (model): LlamaModel(\n",
            "    (embed_tokens): Embedding(32000, 4096, padding_idx=0)\n",
            "    (layers): ModuleList(\n",
            "      (0-31): 32 x LlamaDecoderLayer(\n",
            "        (self_attn): LlamaAttention(\n",
            "          (q_proj): Linear4bit(in_features=4096, out_features=4096, bias=False)\n",
            "          (k_proj): Linear4bit(in_features=4096, out_features=4096, bias=False)\n",
            "          (v_proj): Linear4bit(in_features=4096, out_features=4096, bias=False)\n",
            "          (o_proj): Linear4bit(in_features=4096, out_features=4096, bias=False)\n",
            "          (rotary_emb): LlamaRotaryEmbedding()\n",
            "        )\n",
            "        (mlp): LlamaMLP(\n",
            "          (gate_proj): Linear4bit(in_features=4096, out_features=11008, bias=False)\n",
            "          (up_proj): Linear4bit(in_features=4096, out_features=11008, bias=False)\n",
            "          (down_proj): Linear4bit(in_features=11008, out_features=4096, bias=False)\n",
            "          (act_fn): SiLUActivation()\n",
            "        )\n",
            "        (input_layernorm): LlamaRMSNorm()\n",
            "        (post_attention_layernorm): LlamaRMSNorm()\n",
            "      )\n",
            "    )\n",
            "    (norm): LlamaRMSNorm()\n",
            "  )\n",
            "  (lm_head): Linear(in_features=4096, out_features=32000, bias=False)\n",
            ")\n"
          ]
        }
      ]
    },
    {
      "cell_type": "markdown",
      "source": [
        "# Load the Tokenizer"
      ],
      "metadata": {
        "id": "Qp1t30B_ushm"
      }
    },
    {
      "cell_type": "code",
      "source": [
        "tokenizer = AutoTokenizer.from_pretrained(model_name, trust_remote_code=True)\n",
        "tokenizer.pad_token = tokenizer.eos_token\n",
        "tokenizer.add_special_tokens({\"additional_special_tokens\" : ['[end-gen]']})\n",
        "\n",
        "# resize model embedding\n",
        "model.resize_token_embeddings(len(tokenizer))"
      ],
      "metadata": {
        "colab": {
          "base_uri": "https://localhost:8080/"
        },
        "id": "LddDVUHAt7CV",
        "outputId": "950c186b-5345-4196-d691-4eac3b2d31e4"
      },
      "execution_count": null,
      "outputs": [
        {
          "output_type": "execute_result",
          "data": {
            "text/plain": [
              "Embedding(32001, 4096)"
            ]
          },
          "metadata": {},
          "execution_count": 21
        }
      ]
    },
    {
      "cell_type": "code",
      "source": [
        "tokenizer.get_vocab()['[end-gen]']"
      ],
      "metadata": {
        "colab": {
          "base_uri": "https://localhost:8080/"
        },
        "id": "rmZqyecXCsQZ",
        "outputId": "6609ae2c-c754-4f5f-f4d7-a2766e3beb90"
      },
      "execution_count": null,
      "outputs": [
        {
          "output_type": "execute_result",
          "data": {
            "text/plain": [
              "32000"
            ]
          },
          "metadata": {},
          "execution_count": 22
        }
      ]
    },
    {
      "cell_type": "markdown",
      "source": [
        "# PEFT Configuration"
      ],
      "metadata": {
        "id": "sBaaP-6Pu1AU"
      }
    },
    {
      "cell_type": "code",
      "source": [
        "lora_alpha = 8\n",
        "lora_dropout = 0.1\n",
        "lora_r = 8   # lora rank default\n",
        "\n",
        "peft_config = LoraConfig(\n",
        "    lora_alpha = lora_alpha,\n",
        "    lora_dropout = lora_dropout,\n",
        "    r = lora_r,\n",
        "    bias = \"none\",\n",
        "    task_type = \"CAUSAL_LM\"     # possíveis task types: CAUSAL_LM, FEATURE_EXTRACTION, QUESTION_ANS, SEQ_2_SEQ_LM, SEQ_CLS and TOKEN_CLS.\n",
        ")"
      ],
      "metadata": {
        "id": "e7ZDb3uRu0by"
      },
      "execution_count": null,
      "outputs": []
    },
    {
      "cell_type": "markdown",
      "source": [
        "# Load Trainer"
      ],
      "metadata": {
        "id": "-Lm3Vs7Zu5s9"
      }
    },
    {
      "cell_type": "code",
      "source": [
        "output_dir = project_path + \"models/results2\"\n",
        "per_device_train_batch_size = 8\n",
        "gradient_accumulation_steps = 4\n",
        "optim = \"paged_adamw_32bit\"\n",
        "save_steps = 100\n",
        "logging_steps = 25\n",
        "learning_rate = 2e-4\n",
        "max_grad_norm = 0.3\n",
        "max_steps = 200    # ((7000 / batch_size=8) / grad_accu_step=4) = 218\n",
        "#max_steps = 430    # ((7000 / batch_size=4) / grad_accu_steps=4) = 437\n",
        "warmup_ratio = 0.03\n",
        "lr_scheduler_type = \"constant\"\n",
        "\n",
        "training_arguments = TrainingArguments(\n",
        "    output_dir = output_dir,\n",
        "    per_device_train_batch_size = per_device_train_batch_size,\n",
        "    gradient_accumulation_steps = gradient_accumulation_steps,\n",
        "    optim = optim,\n",
        "    save_steps = save_steps,\n",
        "    logging_steps = logging_steps,\n",
        "    learning_rate = learning_rate,\n",
        "    fp16 = True,\n",
        "    max_grad_norm = max_grad_norm,\n",
        "    max_steps = max_steps,\n",
        "    warmup_ratio = warmup_ratio,\n",
        "    group_by_length = True,\n",
        "    lr_scheduler_type = lr_scheduler_type\n",
        ")"
      ],
      "metadata": {
        "id": "HwDPO6NUu7Im"
      },
      "execution_count": null,
      "outputs": []
    },
    {
      "cell_type": "code",
      "source": [
        "max_seq_length = 512\n",
        "\n",
        "trainer = SFTTrainer(\n",
        "    model = model,\n",
        "    train_dataset = dataset['train'],\n",
        "    peft_config = peft_config,\n",
        "    dataset_text_field = \"input_text\",\n",
        "    max_seq_length = max_seq_length,\n",
        "    tokenizer = tokenizer,\n",
        "    args = training_arguments\n",
        ")"
      ],
      "metadata": {
        "colab": {
          "base_uri": "https://localhost:8080/",
          "height": 138,
          "referenced_widgets": [
            "5e8ac699f4054c0a9ad656ad7d5016c2",
            "e8b7a04e97804c9fa3156c340faf016b",
            "6b56f12f79394ca98e8a866978fbf0f1",
            "9763b8b3a73749e49d7d5db03bb0cd9e",
            "d8a04ae5a917479a8697e0d6750fcc52",
            "abf3c9900dc3482898a3bc6dc3854dce",
            "b390fc9c758b47589118e57d3dbbb4b5",
            "9b31995b7cec4aef8ca6ba3113997685",
            "4117bf1b8de242728542161e1bed96fe",
            "fd09c165a8b14102b9b7115c61a85d2a",
            "a226c584bf8a4c4586e7bee6d036d2b7"
          ]
        },
        "id": "nEs4kjeuvIMR",
        "outputId": "85e855df-089a-468b-979b-b12b995f4a44"
      },
      "execution_count": null,
      "outputs": [
        {
          "output_type": "stream",
          "name": "stderr",
          "text": [
            "/usr/local/lib/python3.10/dist-packages/peft/utils/other.py:133: FutureWarning: prepare_model_for_int8_training is deprecated and will be removed in a future version. Use prepare_model_for_kbit_training instead.\n",
            "  warnings.warn(\n"
          ]
        },
        {
          "output_type": "display_data",
          "data": {
            "text/plain": [
              "Map:   0%|          | 0/7000 [00:00<?, ? examples/s]"
            ],
            "application/vnd.jupyter.widget-view+json": {
              "version_major": 2,
              "version_minor": 0,
              "model_id": "5e8ac699f4054c0a9ad656ad7d5016c2"
            }
          },
          "metadata": {}
        },
        {
          "output_type": "stream",
          "name": "stderr",
          "text": [
            "/usr/local/lib/python3.10/dist-packages/trl/trainer/sft_trainer.py:207: UserWarning: You passed a tokenizer with `padding_side` not equal to `right` to the SFTTrainer. This might lead to some unexpected behaviour due to overflow issues when training a model in half-precision. You might consider adding `tokenizer.padding_side = 'right'` to your code.\n",
            "  warnings.warn(\n"
          ]
        }
      ]
    },
    {
      "cell_type": "code",
      "source": [
        "# Para deixar o treino mais estável iremos fazer um casting nas camadas de normalização do modelo.\n",
        "for name, module in trainer.model.named_modules():\n",
        "  if \"norm\" in name:\n",
        "    module = module.to(torch.float32)"
      ],
      "metadata": {
        "id": "5zYgODUqv0w6"
      },
      "execution_count": null,
      "outputs": []
    },
    {
      "cell_type": "code",
      "source": [
        "trainer.train()"
      ],
      "metadata": {
        "colab": {
          "base_uri": "https://localhost:8080/",
          "height": 398
        },
        "id": "yL0ner6QydnV",
        "outputId": "c6c52dee-8855-43e9-8c3a-56d361b9ea5b"
      },
      "execution_count": null,
      "outputs": [
        {
          "output_type": "stream",
          "name": "stderr",
          "text": [
            "You're using a LlamaTokenizerFast tokenizer. Please note that with a fast tokenizer, using the `__call__` method is faster than using a method to encode the text followed by a call to the `pad` method to get a padded encoding.\n"
          ]
        },
        {
          "output_type": "display_data",
          "data": {
            "text/plain": [
              "<IPython.core.display.HTML object>"
            ],
            "text/html": [
              "\n",
              "    <div>\n",
              "      \n",
              "      <progress value='200' max='200' style='width:300px; height:20px; vertical-align: middle;'></progress>\n",
              "      [200/200 1:55:43, Epoch 0/1]\n",
              "    </div>\n",
              "    <table border=\"1\" class=\"dataframe\">\n",
              "  <thead>\n",
              " <tr style=\"text-align: left;\">\n",
              "      <th>Step</th>\n",
              "      <th>Training Loss</th>\n",
              "    </tr>\n",
              "  </thead>\n",
              "  <tbody>\n",
              "    <tr>\n",
              "      <td>25</td>\n",
              "      <td>1.649900</td>\n",
              "    </tr>\n",
              "    <tr>\n",
              "      <td>50</td>\n",
              "      <td>1.862600</td>\n",
              "    </tr>\n",
              "    <tr>\n",
              "      <td>75</td>\n",
              "      <td>0.659800</td>\n",
              "    </tr>\n",
              "    <tr>\n",
              "      <td>100</td>\n",
              "      <td>0.689300</td>\n",
              "    </tr>\n",
              "    <tr>\n",
              "      <td>125</td>\n",
              "      <td>0.581100</td>\n",
              "    </tr>\n",
              "    <tr>\n",
              "      <td>150</td>\n",
              "      <td>0.567800</td>\n",
              "    </tr>\n",
              "    <tr>\n",
              "      <td>175</td>\n",
              "      <td>0.533800</td>\n",
              "    </tr>\n",
              "    <tr>\n",
              "      <td>200</td>\n",
              "      <td>0.477600</td>\n",
              "    </tr>\n",
              "  </tbody>\n",
              "</table><p>"
            ]
          },
          "metadata": {}
        },
        {
          "output_type": "execute_result",
          "data": {
            "text/plain": [
              "TrainOutput(global_step=200, training_loss=0.8777500295639038, metrics={'train_runtime': 6995.771, 'train_samples_per_second': 0.915, 'train_steps_per_second': 0.029, 'total_flos': 4.341566992259482e+16, 'train_loss': 0.8777500295639038, 'epoch': 0.91})"
            ]
          },
          "metadata": {},
          "execution_count": 27
        }
      ]
    },
    {
      "cell_type": "code",
      "source": [
        "trainer.model.save_pretrained(project_path + \"models/outputs2\")"
      ],
      "metadata": {
        "id": "cFLmIzfMyh5g"
      },
      "execution_count": null,
      "outputs": []
    },
    {
      "cell_type": "markdown",
      "source": [
        "# Carregando Modelo Tunado com QLoRA"
      ],
      "metadata": {
        "id": "9COYafqCTW6M"
      }
    },
    {
      "cell_type": "code",
      "source": [
        "model_name = \"TinyPixel/Llama-2-7B-bf16-sharded\""
      ],
      "metadata": {
        "id": "VHtfWXiUEwMl"
      },
      "execution_count": null,
      "outputs": []
    },
    {
      "cell_type": "code",
      "source": [
        "# BitsAndBytes é um framework com funções customizadas para\n",
        "# otimização com precisão 8-bit, multiplicações de matrizes e\n",
        "# funções de quantização\n",
        "bnb_config = BitsAndBytesConfig(\n",
        "    load_in_4bit=True,   # Utiliza precisão de 4 bits para comprimir o modelo\n",
        "    bnb_4bit_quant_type=\"nf4\",\n",
        "    bnb_4bit_compute_dtype=torch.float16,   # os gradientes dos pesos são computados em 16-bit\n",
        ")\n",
        "\n",
        "model = AutoModelForCausalLM.from_pretrained(\n",
        "    model_name,\n",
        "    quantization_config=bnb_config,\n",
        "    trust_remote_code=True\n",
        ")\n",
        "model.config.use_cache = False"
      ],
      "metadata": {
        "id": "Vl71-yeEXxK0",
        "colab": {
          "base_uri": "https://localhost:8080/",
          "height": 49,
          "referenced_widgets": [
            "aa4f8fbddee840dd9ebc15a893e78363",
            "628b8a5c5104465c8933553469e1cd11",
            "84161b31cdc340c4ba10ebcc8615f613",
            "f8ff628111714cc78f599417b34d43a2",
            "cd84e1ac8cf94341a04368d43f921278",
            "d1613ec012974b3fac38a9cc7780a2fe",
            "f18221659c054c01add08d0eafcf7d2e",
            "82be4dfc4c534df2943c4f7a9b0cabb4",
            "23d9cc3aa63c46b5b9e623e276a82133",
            "182e9ecfd3dc4ecf8427031831ac68ba",
            "fac3a24c573e4b50a3bcb1a25fb32665"
          ]
        },
        "outputId": "9392c662-ecca-44e9-f68e-8ea728a6f55a"
      },
      "execution_count": null,
      "outputs": [
        {
          "output_type": "display_data",
          "data": {
            "text/plain": [
              "Loading checkpoint shards:   0%|          | 0/14 [00:00<?, ?it/s]"
            ],
            "application/vnd.jupyter.widget-view+json": {
              "version_major": 2,
              "version_minor": 0,
              "model_id": "aa4f8fbddee840dd9ebc15a893e78363"
            }
          },
          "metadata": {}
        }
      ]
    },
    {
      "cell_type": "code",
      "source": [
        "tokenizer = AutoTokenizer.from_pretrained(model_name, trust_remote_code=True)\n",
        "tokenizer.pad_token = tokenizer.eos_token\n",
        "tokenizer.add_special_tokens({\"additional_special_tokens\" : ['[end-gen]']})\n",
        "\n",
        "# resize model embedding\n",
        "model.resize_token_embeddings(len(tokenizer))"
      ],
      "metadata": {
        "id": "zpCWQHzrXuBQ",
        "colab": {
          "base_uri": "https://localhost:8080/"
        },
        "outputId": "47da3473-dbfc-49b2-d7f5-dd676fd29f3c"
      },
      "execution_count": null,
      "outputs": [
        {
          "output_type": "execute_result",
          "data": {
            "text/plain": [
              "Embedding(32001, 4096)"
            ]
          },
          "metadata": {},
          "execution_count": 31
        }
      ]
    },
    {
      "cell_type": "code",
      "source": [
        "lora_config = LoraConfig.from_pretrained(project_path + \"models/outputs2\")\n",
        "model = get_peft_model(model, lora_config)"
      ],
      "metadata": {
        "id": "Z9msTvbn88MV"
      },
      "execution_count": null,
      "outputs": []
    },
    {
      "cell_type": "markdown",
      "source": [
        "# Inferência: Exemplo 1"
      ],
      "metadata": {
        "id": "oeb5T4oEFJ2J"
      }
    },
    {
      "cell_type": "code",
      "source": [
        "dataset['validation'][0]"
      ],
      "metadata": {
        "colab": {
          "base_uri": "https://localhost:8080/"
        },
        "id": "Yufz_ODbTjVz",
        "outputId": "32d66f8d-b036-4f0b-877f-f6f4fd5aba12"
      },
      "execution_count": null,
      "outputs": [
        {
          "output_type": "execute_result",
          "data": {
            "text/plain": [
              "{'input_text': '### schema:\\ntable concert, columns = [*,concert_id,concert_name,theme,stadium_id,year]\\ntable singer, columns = [*,singer_id,name,country,song_name,song_release_year,age,is_male]\\ntable singer_in_concert, columns = [*,concert_id,singer_id]\\ntable stadium, columns = [*,stadium_id,location,name,capacity,highest,lowest,average]\\nforeign_keys = [stadium.stadium_id,singer.singer_id,concert.concert_id,singer_in_concert.concert_id]\\nprimary_keys = [concert.stadium_id = stadium.stadium_id,singer_in_concert.singer_id = singer.singer_id,singer_in_concert.concert_id = concert.concert_id]\\n\\n### question:\\nhow many singers do we have?\\n\\n### sql query:\\nselect count(*) from singer ; [end-gen]'}"
            ]
          },
          "metadata": {},
          "execution_count": 33
        }
      ]
    },
    {
      "cell_type": "code",
      "source": [
        "input = \"### schema:\\ntable concert, columns = [*,concert_id,concert_name,theme,stadium_id,year]\" \\\n",
        "\"\\ntable singer, \\columns = [*,singer_id,name,country,song_name,song_release_year,age,is_male]\"\\\n",
        "\"\\ntable singer_in_concert, columns = [*,concert_id,singer_id]\"\\\n",
        "\"\\ntable stadium, columns = [*,stadium_id,location,name,capacity,highest,lowest,average]\"\\\n",
        "\"\\nforeign_keys = [stadium.stadium_id,singer.singer_id,concert.concert_id,singer_in_concert.concert_id]\"\\\n",
        "\"\\nprimary_keys = [concert.stadium_id = stadium.stadium_id,singer_in_concert.singer_id = singer.singer_id,singer_in_concert.concert_id = concert.concert_id]\\n\\n\"\\\n",
        "\"### question:\\nhow many singers do we have?\\n\\n### sql query:\\n\"\n",
        "device = \"cuda:0\"\n",
        "\n",
        "inputs = tokenizer(input, return_tensors=\"pt\").to(device)\n",
        "outputs = model.generate(**inputs, max_new_tokens=50, eos_token_id=[tokenizer.get_vocab()[\"#\"], tokenizer.get_vocab()[\";\"], tokenizer.get_vocab()[\"[end-gen]\"]])\n",
        "print(tokenizer.decode(outputs[0], skip_special_tokens=False))"
      ],
      "metadata": {
        "colab": {
          "base_uri": "https://localhost:8080/"
        },
        "id": "JRtUYJt9V3tb",
        "outputId": "35e96929-95ef-4781-87b5-cfe53c43fc79"
      },
      "execution_count": null,
      "outputs": [
        {
          "output_type": "stream",
          "name": "stderr",
          "text": [
            "/usr/local/lib/python3.10/dist-packages/transformers/generation/utils.py:1270: UserWarning: You have modified the pretrained model configuration to control generation. This is a deprecated strategy to control generation and will be removed soon, in a future version. Please use a generation configuration file (see https://huggingface.co/docs/transformers/main_classes/text_generation )\n",
            "  warnings.warn(\n"
          ]
        },
        {
          "output_type": "stream",
          "name": "stdout",
          "text": [
            "<s> ### schema:\n",
            "table concert, columns = [*,concert_id,concert_name,theme,stadium_id,year]\n",
            "table singer, \\columns = [*,singer_id,name,country,song_name,song_release_year,age,is_male]\n",
            "table singer_in_concert, columns = [*,concert_id,singer_id]\n",
            "table stadium, columns = [*,stadium_id,location,name,capacity,highest,lowest,average]\n",
            "foreign_keys = [stadium.stadium_id,singer.singer_id,concert.concert_id,singer_in_concert.concert_id]\n",
            "primary_keys = [concert.stadium_id = stadium.stadium_id,singer_in_concert.singer_id = singer.singer_id,singer_in_concert.concert_id = concert.concert_id]\n",
            "\n",
            "### question:\n",
            "how many singers do we have?\n",
            "\n",
            "### sql query:\n",
            "select count(*) from singer\n",
            "\n",
            "###\n"
          ]
        }
      ]
    },
    {
      "cell_type": "markdown",
      "source": [
        "# Inferência: Exemplo 2"
      ],
      "metadata": {
        "id": "hCQZKCd6LD1o"
      }
    },
    {
      "cell_type": "code",
      "source": [
        "dataset['validation'][4]"
      ],
      "metadata": {
        "id": "G0sw-augXk43",
        "colab": {
          "base_uri": "https://localhost:8080/"
        },
        "outputId": "133979b9-f750-426a-f020-d8e88147cd6c"
      },
      "execution_count": null,
      "outputs": [
        {
          "output_type": "execute_result",
          "data": {
            "text/plain": [
              "{'input_text': \"### schema:\\ntable concert, columns = [*,concert_id,concert_name,theme,stadium_id,year]\\ntable singer, columns = [*,singer_id,name,country,song_name,song_release_year,age,is_male]\\ntable singer_in_concert, columns = [*,concert_id,singer_id]\\ntable stadium, columns = [*,stadium_id,location,name,capacity,highest,lowest,average]\\nforeign_keys = [stadium.stadium_id,singer.singer_id,concert.concert_id,singer_in_concert.concert_id]\\nprimary_keys = [concert.stadium_id = stadium.stadium_id,singer_in_concert.singer_id = singer.singer_id,singer_in_concert.concert_id = concert.concert_id]\\n\\n### question:\\nwhat is the average, minimum, and maximum age of all singers from france?\\n\\n### sql query:\\nselect avg(age) ,  min(age) ,  max(age) from singer where country  =  'france' ; [end-gen]\"}"
            ]
          },
          "metadata": {},
          "execution_count": 35
        }
      ]
    },
    {
      "cell_type": "code",
      "source": [
        "input = dataset['validation'][4]['input_text'].split(\"### sql query:\")[0] + \"### sql query:\\n\"\n",
        "device = \"cuda:0\"\n",
        "\n",
        "inputs = tokenizer(input, return_tensors=\"pt\").to(device)\n",
        "outputs = model.generate(**inputs, max_new_tokens=50, eos_token_id=[tokenizer.get_vocab()[\"#\"], tokenizer.get_vocab()[\";\"], tokenizer.get_vocab()[\"[end-gen]\"]])\n",
        "print(tokenizer.decode(outputs[0], skip_special_tokens=False))"
      ],
      "metadata": {
        "colab": {
          "base_uri": "https://localhost:8080/"
        },
        "id": "OXXSPKwpFVYZ",
        "outputId": "a953182a-78e3-4324-9898-4ee6ba1c18be"
      },
      "execution_count": null,
      "outputs": [
        {
          "output_type": "stream",
          "name": "stdout",
          "text": [
            "<s> ### schema:\n",
            "table concert, columns = [*,concert_id,concert_name,theme,stadium_id,year]\n",
            "table singer, columns = [*,singer_id,name,country,song_name,song_release_year,age,is_male]\n",
            "table singer_in_concert, columns = [*,concert_id,singer_id]\n",
            "table stadium, columns = [*,stadium_id,location,name,capacity,highest,lowest,average]\n",
            "foreign_keys = [stadium.stadium_id,singer.singer_id,concert.concert_id,singer_in_concert.concert_id]\n",
            "primary_keys = [concert.stadium_id = stadium.stadium_id,singer_in_concert.singer_id = singer.singer_id,singer_in_concert.concert_id = concert.concert_id]\n",
            "\n",
            "### question:\n",
            "what is the average, minimum, and maximum age of all singers from france?\n",
            "\n",
            "### sql query:\n",
            "select avg(age), min(age), max(age) from singer where country = 'France'\n",
            "\n",
            "###\n"
          ]
        }
      ]
    },
    {
      "cell_type": "markdown",
      "source": [
        "# Inferência: Exemplo 3"
      ],
      "metadata": {
        "id": "2rktDH4dHiqv"
      }
    },
    {
      "cell_type": "code",
      "source": [
        "dataset['validation'][150]"
      ],
      "metadata": {
        "colab": {
          "base_uri": "https://localhost:8080/"
        },
        "id": "lzZ3I1mXFymK",
        "outputId": "656310f1-d0b2-4b83-94ae-20d6d6e341b1"
      },
      "execution_count": null,
      "outputs": [
        {
          "output_type": "execute_result",
          "data": {
            "text/plain": [
              "{'input_text': '### schema:\\ntable car_makers, columns = [*,id,maker,fullname,country]\\ntable car_names, columns = [*,makeid,model,make]\\ntable cars_data, columns = [*,id,mpg,cylinders,edispl,horsepower,weight,accelerate,year]\\ntable continents, columns = [*,contid,continent]\\ntable countries, columns = [*,countryid,countryname,continent]\\ntable model_list, columns = [*,modelid,maker,model]\\nforeign_keys = [continents.contid,countries.countryid,car_makers.id,model_list.modelid,car_names.makeid,cars_data.id]\\nprimary_keys = [countries.continent = continents.contid,car_makers.country = countries.countryid,model_list.maker = car_makers.id,car_names.model = model_list.model,cars_data.id = car_names.makeid]\\n\\n### question:\\nwhat are the names and ids of all makers with more than 3 models?\\n\\n### sql query:\\nselect t1.fullname ,  t1.id from car_makers as t1 join model_list as t2 on t1.id  =  t2.maker group by t1.id having count(*)  >  3;'}"
            ]
          },
          "metadata": {},
          "execution_count": 37
        }
      ]
    },
    {
      "cell_type": "code",
      "source": [
        "input = dataset['validation'][150]['input_text'].split(\"### sql query:\")[0] + \"### sql query:\\n\"\n",
        "device = \"cuda:0\"\n",
        "\n",
        "inputs = tokenizer(input, return_tensors=\"pt\").to(device)\n",
        "outputs = model.generate(**inputs, max_new_tokens=50, eos_token_id=[tokenizer.get_vocab()[\"#\"], tokenizer.get_vocab()[\";\"], tokenizer.get_vocab()[\"[end-gen]\"]])\n",
        "print(tokenizer.decode(outputs[0], skip_special_tokens=False))"
      ],
      "metadata": {
        "colab": {
          "base_uri": "https://localhost:8080/"
        },
        "id": "d6xrMkjOHnPh",
        "outputId": "eba8b4c9-a051-4d4d-94e0-986a54b3359f"
      },
      "execution_count": null,
      "outputs": [
        {
          "output_type": "stream",
          "name": "stdout",
          "text": [
            "<s> ### schema:\n",
            "table car_makers, columns = [*,id,maker,fullname,country]\n",
            "table car_names, columns = [*,makeid,model,make]\n",
            "table cars_data, columns = [*,id,mpg,cylinders,edispl,horsepower,weight,accelerate,year]\n",
            "table continents, columns = [*,contid,continent]\n",
            "table countries, columns = [*,countryid,countryname,continent]\n",
            "table model_list, columns = [*,modelid,maker,model]\n",
            "foreign_keys = [continents.contid,countries.countryid,car_makers.id,model_list.modelid,car_names.makeid,cars_data.id]\n",
            "primary_keys = [countries.continent = continents.contid,car_makers.country = countries.countryid,model_list.maker = car_makers.id,car_names.model = model_list.model,cars_data.id = car_names.makeid]\n",
            "\n",
            "### question:\n",
            "what are the names and ids of all makers with more than 3 models?\n",
            "\n",
            "### sql query:\n",
            "select maker,count(*) as num_models from car_makers group by maker having count(*) > 3\n",
            "\n",
            "###\n"
          ]
        }
      ]
    },
    {
      "cell_type": "code",
      "source": [],
      "metadata": {
        "id": "6g_2y4j9HuN3"
      },
      "execution_count": null,
      "outputs": []
    }
  ]
}